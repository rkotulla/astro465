{
 "cells": [
  {
   "cell_type": "code",
   "execution_count": 38,
   "metadata": {},
   "outputs": [],
   "source": [
    "# import some common python packages\n",
    "import astropy.io.fits as fits  # handle FITS images\n",
    "import numpy as np              # numerical processing \n",
    "import matplotlib.pyplot as plt # plotting"
   ]
  },
  {
   "cell_type": "code",
   "execution_count": 6,
   "metadata": {},
   "outputs": [
    {
     "name": "stdout",
     "output_type": "stream",
     "text": [
      "/work/astro465_notebooks/introduction\n"
     ]
    }
   ],
   "source": [
    "# Find what directory we are currently working in\n",
    "!pwd"
   ]
  },
  {
   "cell_type": "code",
   "execution_count": 7,
   "metadata": {},
   "outputs": [
    {
     "name": "stdout",
     "output_type": "stream",
     "text": [
      "introduction.ipynb\n",
      "M82-NGC3034_No-change_20230831_025732730.fits\n",
      "M82-NGC3034_No-change_20230831_025756572.fits\n",
      "M82-NGC3034_No-change_20230831_025811.fits\n",
      "M82-NGC3034_No-change_20230831_025825.fits\n",
      "M82-NGC3034_No-change_20230831_025908.fits\n",
      "M82-NGC3034_No-change_20230831_025920.fits\n",
      "M82-NGC3034_No-change_20230831_030021.fits\n",
      "M82-NGC3034_No-change_20230831_030131794.fits\n",
      "M82-NGC3034_No-change_20230831_030137001.fits\n",
      "M82-NGC3034_No-change_20230831_030141904.fits\n",
      "M82-NGC3034_No-change_20230831_030151849.fits\n",
      "M82-NGC3034_No-change_20230831_030216103.fits\n",
      "M82-NGC3034_No-change_20230831_030220825.fits\n",
      "M82-NGC3034_No-change_20230831_030237039.fits\n",
      "M82-NGC3034_No-change_20230831_030243804.fits\n",
      "M82-NGC3034_No-change_20230831_030301721.fits\n",
      "saturnlong_i_20230831_032639.fits\n"
     ]
    }
   ],
   "source": [
    "# List all files in the current directory\n",
    "!ls"
   ]
  },
  {
   "cell_type": "markdown",
   "metadata": {},
   "source": [
    "# Opening, and inspecting FITS images\n",
    "\n",
    "first, we define a variable to contain the filename of the image we want to open and inspect"
   ]
  },
  {
   "cell_type": "code",
   "execution_count": 11,
   "metadata": {},
   "outputs": [],
   "source": [
    "fits_filename = \"M82-NGC3034_No-change_20230831_025811.fits\""
   ]
  },
  {
   "cell_type": "markdown",
   "metadata": {},
   "source": [
    "Generally, FITS images can contain a variety of datasets, each of which comes with some metadata (i.e. data that describes the actual data)\n",
    "These are refered to as Header-Data-Units (HDUs), and a FITS file thus contains a list of HDUs"
   ]
  },
  {
   "cell_type": "code",
   "execution_count": 12,
   "metadata": {},
   "outputs": [],
   "source": [
    "hdu_list = fits.open(fits_filename)"
   ]
  },
  {
   "cell_type": "markdown",
   "metadata": {},
   "source": [
    "To find out what's in the file, we can use the .info() method"
   ]
  },
  {
   "cell_type": "code",
   "execution_count": 13,
   "metadata": {},
   "outputs": [
    {
     "name": "stdout",
     "output_type": "stream",
     "text": [
      "Filename: M82-NGC3034_No-change_20230831_025811.fits\n",
      "No.    Name      Ver    Type      Cards   Dimensions   Format\n",
      "  0  PRIMARY       1 PrimaryHDU      47   (1660, 1252)   int16 (rescales to uint16)   \n"
     ]
    }
   ],
   "source": [
    "hdu_list.info()"
   ]
  },
  {
   "cell_type": "markdown",
   "metadata": {},
   "source": [
    "in the present case, the FITS file from our CCD is relative simple, containing only a single HDU\n",
    "\n",
    "Each HDU can be addressed via either a numerical index (the value in the 'No.' column), or its name (see the 'Name' column). \n",
    "\n",
    "For each HDU, the info() method also provides the number of header entries ('Cards' in FITS-speak), and the Dimensions of the data. In our case that is a 2-D image, but data could also be one- (e.g. a spectrum) or three-dimensional (data cube from either radio data or some integral field spectrograph).\n",
    "\n",
    "Lastly, 'Format' details the type of data, with int (integers) and float (floating point) being the most common. "
   ]
  },
  {
   "cell_type": "markdown",
   "metadata": {},
   "source": [
    "## Accessing FITS headers and data\n",
    "\n",
    "Headers and image data can be accessed via the .header and .data "
   ]
  },
  {
   "cell_type": "code",
   "execution_count": 63,
   "metadata": {},
   "outputs": [
    {
     "name": "stdout",
     "output_type": "stream",
     "text": [
      "SIMPLE  =                    T / file does conform to FITS standard             \n",
      "BITPIX  =                   16 / number of bits per data pixel                  \n",
      "NAXIS   =                    2 / number of data axes                            \n",
      "NAXIS1  =                 1660 / length of data axis 1                          \n",
      "NAXIS2  =                 1252 / length of data axis 2                          \n",
      "EXTEND  =                    T / FITS dataset may contain extensions            \n",
      "BZERO   =                32768 / offset data range to that of unsigned short    \n",
      "BSCALE  =                    1 / default scaling factor                         \n",
      "XBINNING=                    2 / Binning factor X                               \n",
      "YBINNING=                    2 / Binning factor Y                               \n",
      "XPIXSZ  =                 10.8 / [um] Pixel Size X, binned                      \n",
      "YPIXSZ  =                 10.8 / [um] Pixel Size Y, binned                      \n",
      "EXPTIME =                    1 / [s] Total Exposure Time                        \n",
      "CCD-TEMP=          10.94793975 / CCD temperature (Celsius)                      \n",
      "IMAGETYP= 'Light   '           / Image Type                                     \n",
      "DATE-OBS= '2023-08-31T02:58:11.990' / UTC start date of observation             \n",
      "INSTRUME= 'CCD'                / Instrument used for acquisition                \n",
      "ROWORDER= 'TOP-DOWN'           / Order of the rows in image array               \n",
      "APTDIA  =               400.00 / Aperture diameter (mm)                         \n",
      "FOCALLEN=                 1200 / [mm] Telescope focal length                    \n",
      "DATE    = '2023-08-31T02:58:13' / Date data written                             \n",
      "ORIGIN  = 'UWAstroRooftop'     / Observatory name                               \n",
      "SITELAT =             43.07441 / Observatory latitude                           \n",
      "SITELONG=         -89.40949011 / Observatory longitude                          \n",
      "OBSERVER= 'testobserver'       / Observer name                                  \n",
      "TELESCOP= '16-inch'            / Telescope used for acquisition                 \n",
      "FILTER  = 'No change'          / Filter                                         \n",
      "SWCREATE= 'CCDciel Version beta 0.9.84-Unknown-revision Linux-x86_64'           \n",
      "OBJECT  = 'M82_NGC3034'        / Observed object name                           \n",
      "PIXSIZE1=                 10.8 / [um] Pixel Size X, binned                      \n",
      "PIXSIZE2=                 10.8 / [um] Pixel Size Y, binned                      \n",
      "FRAMEX  =                    0 / Frame start x                                  \n",
      "FRAMEY  =                    0 / Frame start y                                  \n",
      "FRAMEHGT=                    5 / Frame height                                   \n",
      "FRAMEWDH=                    5 / Frame width                                    \n",
      "CENTAZ  = '0.00'               / [deg] Azimuth of center of image, origin North \n",
      "CENTALT = '43.11'              / [deg] Altitude of center of image              \n",
      "AIRMASS =               1.4611 / Airmass                                        \n",
      "PIERSIDE= 'EAST'               / Telescope side of pier                         \n",
      "EQUINOX =                 2000                                                  \n",
      "RA      =          359.3930648 / [deg] Telescope pointing RA                    \n",
      "DEC     =          89.86704449 / [deg] Telescope pointing DEC                   \n",
      "OBJCTRA = '23 57 34'           / [hh mm ss] Telescope pointing RA               \n",
      "OBJCTDEC= '+89 52 01'          / [+dd mm ss] Telescope pointing DEC             \n",
      "SECPIX1 =          1.856383256 / image scale arcseconds per pixel               \n",
      "SECPIX2 =          1.856383256 / image scale arcseconds per pixel               \n",
      "SCALE   =          1.856383256 / image scale arcseconds per pixel               \n"
     ]
    }
   ],
   "source": [
    "header = hdu_list[0].header\n",
    "print(repr(header))"
   ]
  },
  {
   "cell_type": "markdown",
   "metadata": {},
   "source": [
    "You can also access individual values, but make sure the keyword exists, otherwise python complains (also note, keywords are NOT case-sensitive unlike most other scenarios in python. But it's still good form to capitalize all keyword names anyway) "
   ]
  },
  {
   "cell_type": "code",
   "execution_count": 22,
   "metadata": {},
   "outputs": [
    {
     "name": "stdout",
     "output_type": "stream",
     "text": [
      "359.3930648\n",
      "359.3930648\n"
     ]
    }
   ],
   "source": [
    "print(header['RA'])\n",
    "print(header['ra'])"
   ]
  },
  {
   "cell_type": "markdown",
   "metadata": {},
   "source": [
    "You can also access the comment associated with each header"
   ]
  },
  {
   "cell_type": "code",
   "execution_count": 27,
   "metadata": {},
   "outputs": [
    {
     "name": "stdout",
     "output_type": "stream",
     "text": [
      "Observed object name\n"
     ]
    }
   ],
   "source": [
    "print(header.comments['OBJECT'])"
   ]
  },
  {
   "cell_type": "markdown",
   "metadata": {},
   "source": [
    "# Important FITS headers\n",
    "\n",
    "Many FITS files include a long list of header keywords, some more important than others. The CCD camera used in Astro-465 comes with a relatively small set of header keywords, with these being some of the most relevant and commonly used ones:\n",
    "\n",
    "* `NAXIS` -- how many dimensions is the data (2 being the most common)\n",
    "* `NAXIS1`, `NAXIS2` -- width and height of image (for 3-D data there's also a `NAXIS3`)\n",
    "* `IMAGETYP` -- what type of image is this; available options are 'LIGHT', 'DARK', 'FLAT', 'BIAS'\n",
    "* `FILTER` -- what filter was in the beam during the integration\n",
    "* `OBJECT` -- a user-defined name for the target\n",
    "* `EXPTIME` -- commanded exposure time\n",
    "* `RA` and `DEC` -- position of the telescope\n",
    "* `XBINNING` and `YBINNING` -- binning used during read-out\n",
    "* `OBSERVER` -- who took this data; this may come in handy in case you have questions regarding observing conditions etc.\n",
    "\n",
    "Note that some FITS headers are required (e.g. `NAXIS`), and others are near universal and can be found in data from virtually any instrument (`OBJECT`, `EXPTIME`), many of the other headers are specific to each instrument (e.g. there may be more headers or headers with other names)."
   ]
  },
  {
   "cell_type": "markdown",
   "metadata": {},
   "source": [
    "# Accessing image data\n",
    "\n",
    "The actual data (if available; not all FITS extensions need to come with data, and some extensions are header only; one common example is the PrimaryHDU in a multi-extension FITS image) can be accessed via the .data keyword "
   ]
  },
  {
   "cell_type": "code",
   "execution_count": 33,
   "metadata": {},
   "outputs": [
    {
     "name": "stdout",
     "output_type": "stream",
     "text": [
      "(1252, 1660)\n"
     ]
    }
   ],
   "source": [
    "data = hdu_list['PRIMARY'].data\n",
    "print(data.shape)"
   ]
  },
  {
   "cell_type": "markdown",
   "metadata": {},
   "source": [
    "Note how data.shape reports the image dimensions differently than the .info() method above? \n",
    "\n",
    "info() gives image dimensions in x,y (width and height), whereas data.shape presents them in python notation, i.e. y,x. \n",
    "This becomes VERY important when actually accessing individual pixels. Furthermore, python starts counting pixels at 0, whereas \n",
    "FITS starts counting at 1. Therefore, the bottom left pixel in a FITS image has coordinate (1,1), but to access this pixel\n",
    "in python you need to use data[0,0]."
   ]
  },
  {
   "cell_type": "code",
   "execution_count": 34,
   "metadata": {},
   "outputs": [
    {
     "name": "stdout",
     "output_type": "stream",
     "text": [
      "1602\n"
     ]
    }
   ],
   "source": [
    "# Get value for x=18, y=28 (in FITS coordinates) \n",
    "x = 17\n",
    "y = 27\n",
    "print(data[y,x])"
   ]
  },
  {
   "cell_type": "markdown",
   "metadata": {},
   "source": [
    "we can also extract parts of an image using slicing just like in numpy"
   ]
  },
  {
   "cell_type": "code",
   "execution_count": 35,
   "metadata": {},
   "outputs": [
    {
     "name": "stdout",
     "output_type": "stream",
     "text": [
      "(1660,)\n"
     ]
    }
   ],
   "source": [
    "row28 = data[27, :]\n",
    "print(row28.shape)"
   ]
  },
  {
   "cell_type": "code",
   "execution_count": 36,
   "metadata": {},
   "outputs": [
    {
     "name": "stdout",
     "output_type": "stream",
     "text": [
      "(1252,)\n"
     ]
    }
   ],
   "source": [
    "column17 = data[:, 16]\n",
    "print(column17.shape)"
   ]
  },
  {
   "cell_type": "code",
   "execution_count": 37,
   "metadata": {},
   "outputs": [
    {
     "name": "stdout",
     "output_type": "stream",
     "text": [
      "(50, 60)\n"
     ]
    }
   ],
   "source": [
    "cutout_near_center = data[600:650, 810:870]\n",
    "print(cutout_near_center.shape)"
   ]
  },
  {
   "cell_type": "markdown",
   "metadata": {},
   "source": [
    "# Visualizing data"
   ]
  },
  {
   "cell_type": "code",
   "execution_count": 56,
   "metadata": {},
   "outputs": [
    {
     "data": {
      "text/plain": [
       "<matplotlib.image.AxesImage at 0x7f6787917a90>"
      ]
     },
     "execution_count": 56,
     "metadata": {},
     "output_type": "execute_result"
    },
    {
     "data": {
      "image/png": "[encoded data removed]",
      "text/plain": [
       "<Figure size 640x480 with 1 Axes>"
      ]
     },
     "metadata": {},
     "output_type": "display_data"
    }
   ],
   "source": [
    "fig, ax = plt.subplots()\n",
    "ax.imshow(cutout_near_center)"
   ]
  },
  {
   "cell_type": "markdown",
   "metadata": {},
   "source": [
    "Note how by default x increases from left to right, but y increases downwards, \n",
    "opposite to what we are used to in FITS. To fix this, we can tell matplotlib to \n",
    "flip the image vertically and count x upwards (`origin='lower'`). \n",
    "\n",
    "Furthermore, since we are working with a small cutout of the full frame, we should\n",
    "account for that when plotting the data as well, using the `extent` parameter. \n",
    "Syntax there is `extent=[left_x, right_x, bottom_y, top_y]`.\n",
    "\n",
    "Lastly, let's add some labels."
   ]
  },
  {
   "cell_type": "code",
   "execution_count": 62,
   "metadata": {},
   "outputs": [
    {
     "data": {
      "text/plain": [
       "Text(0.5, 1.0, 'My first cutout')"
      ]
     },
     "execution_count": 62,
     "metadata": {},
     "output_type": "execute_result"
    },
    {
     "data": {
      "image/png": "[encoded data removed]",
      "text/plain": [
       "<Figure size 640x480 with 1 Axes>"
      ]
     },
     "metadata": {},
     "output_type": "display_data"
    }
   ],
   "source": [
    "fig, ax = plt.subplots()\n",
    "ax.imshow(cutout_near_center, origin='lower', extent=[810,870, 600,650])\n",
    "ax.set_xlabel(\"X\")\n",
    "ax.set_ylabel(\"Y\")\n",
    "ax.set_title(\"My first cutout\")"
   ]
  },
  {
   "cell_type": "code",
   "execution_count": 46,
   "metadata": {},
   "outputs": [
    {
     "data": {
      "text/plain": [
       "(array([  5.,   9.,  28.,  63., 154., 245., 342., 473., 494., 415., 349.,\n",
       "        212., 125.,  48.,  27.,   7.,   1.,   2.,   0.,   1.]),\n",
       " array([1541. , 1549.7, 1558.4, 1567.1, 1575.8, 1584.5, 1593.2, 1601.9,\n",
       "        1610.6, 1619.3, 1628. , 1636.7, 1645.4, 1654.1, 1662.8, 1671.5,\n",
       "        1680.2, 1688.9, 1697.6, 1706.3, 1715. ]),\n",
       " <BarContainer object of 20 artists>)"
      ]
     },
     "execution_count": 46,
     "metadata": {},
     "output_type": "execute_result"
    },
    {
     "data": {
      "image/png": "[encoded data removed]",
      "text/plain": [
       "<Figure size 640x480 with 1 Axes>"
      ]
     },
     "metadata": {},
     "output_type": "display_data"
    }
   ],
   "source": [
    "fig, ax = plt.subplots()\n",
    "ax.hist(cutout_near_center.ravel(), bins=20)"
   ]
  },
  {
   "cell_type": "code",
   "execution_count": 52,
   "metadata": {},
   "outputs": [
    {
     "data": {
      "image/png": "[encoded data removed]",
      "text/plain": [
       "<Figure size 640x480 with 1 Axes>"
      ]
     },
     "metadata": {},
     "output_type": "display_data"
    }
   ],
   "source": [
    "fig, ax = plt.subplots()\n",
    "ret = ax.hist(data.ravel(), bins=np.linspace(1500,1700,40))"
   ]
  },
  {
   "cell_type": "code",
   "execution_count": 55,
   "metadata": {},
   "outputs": [
    {
     "name": "stdout",
     "output_type": "stream",
     "text": [
      "(array([   321.,    303.,    306.,    440.,    640.,   1172.,   1934.,\n",
      "         4200.,   6674.,  10912.,  18008.,  26228.,  38730.,  51667.,\n",
      "        69493., 103257., 105592., 119526., 131592., 134458., 141581.,\n",
      "       142950., 139207., 152147., 119053., 108981.,  92000.,  81504.,\n",
      "        67660.,  54292.,  43867.,  37733.,  22889.,  16691.,  10929.,\n",
      "         7682.,   4782.,   3156.,   2108.]), array([1500.        , 1505.12820513, 1510.25641026, 1515.38461538,\n",
      "       1520.51282051, 1525.64102564, 1530.76923077, 1535.8974359 ,\n",
      "       1541.02564103, 1546.15384615, 1551.28205128, 1556.41025641,\n",
      "       1561.53846154, 1566.66666667, 1571.79487179, 1576.92307692,\n",
      "       1582.05128205, 1587.17948718, 1592.30769231, 1597.43589744,\n",
      "       1602.56410256, 1607.69230769, 1612.82051282, 1617.94871795,\n",
      "       1623.07692308, 1628.20512821, 1633.33333333, 1638.46153846,\n",
      "       1643.58974359, 1648.71794872, 1653.84615385, 1658.97435897,\n",
      "       1664.1025641 , 1669.23076923, 1674.35897436, 1679.48717949,\n",
      "       1684.61538462, 1689.74358974, 1694.87179487, 1700.        ]), <BarContainer object of 39 artists>)\n"
     ]
    }
   ],
   "source": [
    "print(ret)\n",
    "bins,hist,_ = ret"
   ]
  },
  {
   "cell_type": "code",
   "execution_count": null,
   "metadata": {},
   "outputs": [],
   "source": []
  }
 ],
 "metadata": {
  "kernelspec": {
   "display_name": "Python 3 (pyenv 3.10)",
   "language": "python",
   "name": "pyenv_3.10"
  },
  "language_info": {
   "codemirror_mode": {
    "name": "ipython",
    "version": 3
   },
   "file_extension": ".py",
   "mimetype": "text/x-python",
   "name": "python",
   "nbconvert_exporter": "python",
   "pygments_lexer": "ipython3",
   "version": "3.10.5"
  }
 },
 "nbformat": 4,
 "nbformat_minor": 4
}
