{
 "cells": [
  {
   "cell_type": "code",
   "execution_count": 82,
   "metadata": {},
   "outputs": [],
   "source": [
    "import pandas as pd\n",
    "import astropy.io.fits as pyfits\n",
    "import glob\n",
    "import numpy as np\n",
    "import matplotlib.pyplot as plt"
   ]
  },
  {
   "cell_type": "code",
   "execution_count": 2,
   "metadata": {},
   "outputs": [
    {
     "name": "stdout",
     "output_type": "stream",
     "text": [
      "/nas/t7black/ctio_data/2018-01-06\n"
     ]
    }
   ],
   "source": [
    "import os\n",
    "os.chdir('/nas/t7black/ctio_data/2018-01-06')\n",
    "!pwd"
   ]
  },
  {
   "cell_type": "code",
   "execution_count": null,
   "metadata": {},
   "outputs": [],
   "source": [
    "filelist = glob.glob(\"*_???.fits\")\n",
    "# print(filelist)"
   ]
  },
  {
   "cell_type": "code",
   "execution_count": null,
   "metadata": {},
   "outputs": [],
   "source": [
    "nightlog = pd.DataFrame()"
   ]
  },
  {
   "cell_type": "code",
   "execution_count": null,
   "metadata": {},
   "outputs": [],
   "source": [
    "\n",
    "\n",
    "for i,filename in enumerate(filelist):\n",
    "    print(filename)\n",
    "    hdulist = pyfits.open(filename)\n",
    "#     print(hdulist[0].data.shape)\n",
    "    header = hdulist[0].header\n",
    "    \n",
    "    nightlog.loc[i, 'FILENAME'] = filename\n",
    "    nightlog.loc[i, 'IMAGETYP'] = header['IMAGETYP'] \n",
    "    nightlog.loc[i, 'FILTER'] = header['FILTERS'].replace(\" \",\"_\")\n",
    "    nightlog.loc[i, 'EXPTIME'] = header['EXPTIME']\n",
    "    nightlog.loc[i, 'OBJECT'] = header['OBJECT']\n"
   ]
  },
  {
   "cell_type": "code",
   "execution_count": null,
   "metadata": {},
   "outputs": [],
   "source": [
    "nightlog"
   ]
  },
  {
   "cell_type": "code",
   "execution_count": null,
   "metadata": {},
   "outputs": [],
   "source": [
    "# find out what data types we have available\n",
    "print(set(nightlog['IMAGETYP']))"
   ]
  },
  {
   "cell_type": "code",
   "execution_count": null,
   "metadata": {},
   "outputs": [],
   "source": [
    "# select all bias frames\n",
    "all_biases = []\n",
    "\n",
    "is_a_bias = nightlog['IMAGETYP'] == 'zero'\n",
    "bias_files = nightlog['FILENAME'][is_a_bias]\n",
    "\n",
    "for fn in bias_files:\n",
    "    hdulist = pyfits.open(fn)\n",
    "    data = hdulist[0].data.astype(float)\n",
    "    print(fn, data.shape)\n",
    "    all_biases.append(data)\n",
    "    \n",
    "all_biases = np.array(all_biases)"
   ]
  },
  {
   "cell_type": "code",
   "execution_count": null,
   "metadata": {},
   "outputs": [],
   "source": [
    "master_bias = np.nanmedian(all_biases, axis=0)\n",
    "master_bias.shape"
   ]
  },
  {
   "cell_type": "code",
   "execution_count": null,
   "metadata": {},
   "outputs": [],
   "source": [
    "pyfits.PrimaryHDU(data=master_bias).writeto(\"master_bias.fits\", overwrite=True)"
   ]
  },
  {
   "cell_type": "markdown",
   "metadata": {},
   "source": [
    "# Flat-fields\n",
    "\n",
    "flat-fields are filter-specific, so we need to generate separate master-flats for each filter"
   ]
  },
  {
   "cell_type": "code",
   "execution_count": null,
   "metadata": {},
   "outputs": [],
   "source": [
    "is_a_flat = (nightlog['IMAGETYP'] == 'sflat') & (nightlog['OBJECT'].str.startswith(\"skyflat\"))\n",
    "only_flats = nightlog[is_a_flat]\n",
    "\n",
    "filter_names = set(only_flats['FILTER'])\n",
    "print(filter_names)"
   ]
  },
  {
   "cell_type": "code",
   "execution_count": null,
   "metadata": {},
   "outputs": [],
   "source": [
    "only_flats"
   ]
  },
  {
   "cell_type": "code",
   "execution_count": null,
   "metadata": {},
   "outputs": [],
   "source": [
    "for this_filter in filter_names:\n",
    "    \n",
    "    is_this_filter = only_flats['FILTER'] == this_filter\n",
    "    flat_files = only_flats['FILENAME'][is_this_filter]\n",
    "    \n",
    "    all_flats = []\n",
    "    for filename in flat_files:\n",
    "        print(this_filter, filename)\n",
    "        \n",
    "        hdulist = pyfits.open(filename)\n",
    "        data = hdulist[0].data.astype(float)\n",
    "        data -= master_bias\n",
    "        \n",
    "        # good practice: replace all bad data\n",
    "        all_flats.append(data)\n",
    "    \n",
    "    all_flats = np.array(all_flats)\n",
    "    print(all_flats.shape)\n",
    "    master_flat = np.nanmean(all_flats, axis=0)\n",
    "    print(master_flat.shape)\n",
    "    pyfits.PrimaryHDU(data=all_flats).writeto(\"dummy_%s.fits\" % (this_filter), overwrite=True)\n",
    "    \n",
    "    # Last step: Normalize the flatfield to an average level of 1\n",
    "    average_flatfield_level = np.nanmedian(master_flat)\n",
    "    print(average_flatfield_level)\n",
    "    master_flat /= average_flatfield_level\n",
    "    \n",
    "    master_flat_filename = \"masterflat_%s.fits\" % (this_filter)\n",
    "    print(\"Writing final masterflat: %s\" % (master_flat_filename))\n",
    "    pyfits.PrimaryHDU(data=master_flat).writeto(master_flat_filename, overwrite=True)\n",
    "    "
   ]
  },
  {
   "cell_type": "markdown",
   "metadata": {},
   "source": [
    "# Reduce actual science frames"
   ]
  },
  {
   "cell_type": "code",
   "execution_count": null,
   "metadata": {},
   "outputs": [],
   "source": [
    "# Determine all frames that contain science data\n",
    "# in this case, that's all the \"OBJECT\" frames, and a few more labeled as \"sflat\" that are actually images and NOT flatfields\n",
    "\n",
    "is_science_frame = (nightlog['IMAGETYP'] == 'object') | \\\n",
    "    ((nightlog['IMAGETYP'] == 'sflat') & ~(nightlog['OBJECT'].str.startswith(\"skyflat\")))\n",
    "science_frames = nightlog[is_science_frame]\n",
    "\n",
    "# Now process each frame in sequence\n",
    "for i,frame in science_frames.iterrows():\n",
    "    \n",
    "    filename = frame['FILENAME']\n",
    "    filter_name = frame['FILTER']\n",
    "    \n",
    "    # Keep user informed about what's going on\n",
    "    print(\"Reducing raw frame: \", filename)\n",
    "    \n",
    "    # open raw frame\n",
    "    hdulist = pyfits.open(filename)\n",
    "    \n",
    "    # open master flat for this specific filter\n",
    "    master_flat_fn = \"masterflat_%s.fits\" % (filter_name)\n",
    "    master_flat_hdu = pyfits.open(master_flat_fn)\n",
    "    master_flat = master_flat_hdu[0].data\n",
    "    \n",
    "    # get raw imaging data\n",
    "    data = hdulist[0].data.astype(float)\n",
    "    # subtract bias\n",
    "    data -= master_bias\n",
    "    # divide by flatfield\n",
    "    data /= master_flat\n",
    "    \n",
    "    # to make our life a bit easier, put some of the relevant information about each frame in the filename\n",
    "    # but clean up potential issues, e.g. replace spaces with underscores\n",
    "    out_fn = \"%(DATE)s__%(OBJECT)s__%(FILTERS)s__%(EXPTIME).0f.fits\" % hdulist[0].header\n",
    "    out_fn = out_fn.replace(\":\", \"\").replace(\" \",\"_\")\n",
    "    print(\"Writing\", out_fn)\n",
    "    \n",
    "    pyfits.PrimaryHDU(data=data, header=hdulist[0].header).writeto(out_fn, overwrite=True)\n",
    "    "
   ]
  },
  {
   "cell_type": "markdown",
   "metadata": {},
   "source": [
    "# Astrometry"
   ]
  },
  {
   "cell_type": "code",
   "execution_count": 26,
   "metadata": {},
   "outputs": [
    {
     "name": "stderr",
     "output_type": "stream",
     "text": [
      "DEBUG:root:test\n",
      "INFO:root:downloading \"http://data.astrometry.net/4200/index-4202-44.fits\" to \"/nas/t7black/astrometry/data/4200/4200/index-4202-44.fits\"\n",
      "DEBUG:urllib3.connectionpool:http://data.astrometry.net:80 \"GET /4200/index-4202-44.fits HTTP/1.1\" 200 108547200\n",
      "INFO:root:downloading \"http://data.astrometry.net/4200/index-4202-45.fits\" to \"/nas/t7black/astrometry/data/4200/4200/index-4202-45.fits\"\n",
      "DEBUG:urllib3.connectionpool:http://data.astrometry.net:80 \"GET /4200/index-4202-45.fits HTTP/1.1\" 200 109169280\n",
      "INFO:root:downloading \"http://data.astrometry.net/4200/index-4202-46.fits\" to \"/nas/t7black/astrometry/data/4200/4200/index-4202-46.fits\"\n",
      "DEBUG:urllib3.connectionpool:http://data.astrometry.net:80 \"GET /4200/index-4202-46.fits HTTP/1.1\" 200 102824640\n"
     ]
    }
   ],
   "source": [
    "import astrometry\n",
    "# import astrometry.solver\n",
    "# print(astrometry.__version__)\n",
    "\n",
    "import logging\n",
    "logger = logging.getLogger()\n",
    "logger.setLevel(logging.DEBUG)\n",
    "logging.debug(\"test\")"
   ]
  },
  {
   "cell_type": "code",
   "execution_count": null,
   "metadata": {},
   "outputs": [],
   "source": [
    "#help(astrometry)"
   ]
  },
  {
   "cell_type": "code",
   "execution_count": null,
   "metadata": {},
   "outputs": [],
   "source": [
    "# solver = astrometry.Solver(\n",
    "#     astrometry.series_4200.index_files(\n",
    "#         cache_directory=\"/nas/t7black/astrometry/broiler.astrometry.net/~dstn/4200/\",\n",
    "#         scales={6},\n",
    "#     )\n",
    "# )"
   ]
  },
  {
   "cell_type": "code",
   "execution_count": 7,
   "metadata": {},
   "outputs": [],
   "source": [
    "# load a single frame\n",
    "fn = '2018-01-07T024216__ngc1365__dia_ov__180.fits'\n",
    "hdulist = pyfits.open(fn)\n",
    "data = hdulist[0].data"
   ]
  },
  {
   "cell_type": "code",
   "execution_count": 8,
   "metadata": {},
   "outputs": [],
   "source": [
    "# get a list of stars in the field\n",
    "from astropy.stats import sigma_clipped_stats\n",
    "mean, median, std = sigma_clipped_stats(data, sigma=3.0)  "
   ]
  },
  {
   "cell_type": "code",
   "execution_count": 9,
   "metadata": {},
   "outputs": [
    {
     "name": "stdout",
     "output_type": "stream",
     "text": [
      "38.43499699925504 35.58875058195095 16.41193050575329\n"
     ]
    }
   ],
   "source": [
    "print(mean, median, std)"
   ]
  },
  {
   "cell_type": "code",
   "execution_count": 10,
   "metadata": {},
   "outputs": [],
   "source": [
    "from photutils.detection import DAOStarFinder"
   ]
  },
  {
   "cell_type": "code",
   "execution_count": 11,
   "metadata": {},
   "outputs": [],
   "source": [
    "import scipy.ndimage\n",
    "filt = scipy.ndimage.median_filter(input=data, size=3, mode='reflect')"
   ]
  },
  {
   "cell_type": "code",
   "execution_count": 12,
   "metadata": {},
   "outputs": [],
   "source": [
    "daofind = DAOStarFinder(fwhm=5.0, threshold=5.*std)\n",
    "sources = daofind(filt - median)  "
   ]
  },
  {
   "cell_type": "code",
   "execution_count": 13,
   "metadata": {},
   "outputs": [],
   "source": [
    "# only select sources away from the edges\n",
    "edge = 25\n",
    "near_edge = (sources['xcentroid'] < edge) | (sources['ycentroid'] < edge) | (sources['xcentroid'] > 1010) | (sources['ycentroid'] > 1010)\n",
    "sources = sources[~near_edge]"
   ]
  },
  {
   "cell_type": "code",
   "execution_count": 51,
   "metadata": {},
   "outputs": [
    {
     "name": "stdout",
     "output_type": "stream",
     "text": [
      " id     xcentroid          ycentroid           sharpness            roundness1            roundness2      npix sky        peak               flux                 mag         \n",
      "--- ------------------ ------------------ ------------------- --------------------- --------------------- ---- --- ------------------ ------------------ ---------------------\n",
      " 28 347.14650088723624 40.652065659129235  0.7961837273146923   -0.4347428991888974  -0.16821679530331404   49 0.0 54.962828441140914  1.100787207496563  -0.10425843470966215\n",
      "135  743.8615353211469 209.76818724792415  0.5907349940047449  -0.17977466814006415   -0.2030704042856744   49 0.0  95.78871906813235 1.8342691659926929   -0.6586576641147189\n",
      "210  882.5003799055739  319.9741082224031 0.46999538843814587  -0.11845559984154137  -0.18468493337003022   49 0.0 181.87476636122716  3.889875744383203   -1.4748393218293088\n",
      "216  660.8316196786076  330.3002935442657  0.5144303185281159  -0.23999753864229276 -0.022915790537190794   49 0.0 167.03960345237158  1.721685214920983   -0.5898843748793035\n",
      "219 341.04765481777304  333.3019952894521  0.6343568185584701   -0.1183632951529449  -0.05444721375959336   49 0.0  78.49713275536676  1.405071299393948   -0.3692459069509568\n",
      "230  669.3177802744888 349.06269294040374 0.36324079038224355    0.5057834546455727    0.7880687204302952   49 0.0 241.81886831760778  2.063331117753389   -0.7864223199013886\n",
      "241  609.7291672944028  361.3324359084925 0.44601878076040125  -0.03165457612879951  -0.10230600961755403   49 0.0 108.41645473904386  1.017477337193991 -0.018811861840920333\n",
      "257  702.1999430028219  388.0838816397229 0.45055552683565653   0.00583963538873686  -0.34758298690537676   49 0.0 209.76934703012955 2.8674041599765587    -1.143722277428104\n",
      "280  689.8817878584772 418.36075872506063 0.45613725468710314   -0.4928294773417096       -0.746582401278   49 0.0 144.08858075238192  1.163659936907668   -0.1645652061493909\n",
      "285  957.7100234807797 431.48521270122404  0.6545440537188983   -0.2650413472924671  -0.09560865617660251   49 0.0 169.95139474048318  2.777736480851794   -1.1092276064374265\n",
      "...                ...                ...                 ...                   ...                   ...  ... ...                ...                ...                   ...\n",
      "548  631.0213847203074   780.242275906175  0.7462476107950499    0.1958221412001529  -0.04754243080625242   49 0.0 183.95352505520327  2.452440959611091   -0.9739964022872014\n",
      "555  559.5210621076109  789.8624635851113  0.5044612414663701  -0.15388818891502887   -0.1003463409404148   49 0.0 277.37117174491755  5.128692804791027    -1.775016716869105\n",
      "560 349.53945606812243  798.3900702214853 0.47466301702713226     -0.42794014905677  -0.07476215983814447   49 0.0 152.65143902563335 1.7055837235128886   -0.5796826071703318\n",
      "601 427.56165867325115  873.5712640898295   0.497671270047252    0.2483216293273688    -0.125427937085438   49 0.0 164.38365731483128 2.1791959928005893   -0.8457407290850869\n",
      "624 484.02740482972735   918.887357214765  0.5213479576905529  -0.10401724123178993  -0.09011489132833397   49 0.0 481.03977530967114  8.919257936174251    -2.375821808689566\n",
      "658  478.8163590290323  963.2605411954022  0.5207221661916449    0.1593407026882938   0.33012310419286905   49 0.0 108.26392154130373 1.0363594866986774 -0.038776068081097834\n",
      "663  478.2166090493918   969.172864232308  0.3104993113816809    0.4476217408349839   0.39466669202477295   49 0.0 116.00075351696047 1.1687943294126084   -0.1693452397103917\n",
      "669  415.7722652660774  979.1496338657697  0.6407706285314273  -0.13079866744750931   -0.0877821784395742   49 0.0  5863.339059753691  98.67348346368195    -4.985501150858247\n",
      "672  891.1249208349251  983.8926441473177  0.5110819543907906 0.0009939258552220602  -0.23682163056708916   49 0.0  57.13799765058505  1.055459124909303  -0.05860354728286686\n",
      "686  613.0576018355974 1002.9675254670896  0.5538638966261876   -0.1211626094376393   -0.1287765295233122   49 0.0 124.20337671290908  2.326233587409625   -0.9166333050326269\n",
      "Length = 61 rows\n"
     ]
    }
   ],
   "source": [
    "print(sources)"
   ]
  },
  {
   "cell_type": "code",
   "execution_count": 17,
   "metadata": {},
   "outputs": [],
   "source": [
    "# sources.pprint(max_width=150)  "
   ]
  },
  {
   "cell_type": "code",
   "execution_count": 19,
   "metadata": {},
   "outputs": [],
   "source": [
    "positions = sources[['xcentroid','ycentroid']].to_pandas().to_numpy()#.astype(int)\n",
    "np.savetxt(\"positions.txt\", positions)\n",
    "# print(positions)"
   ]
  },
  {
   "cell_type": "code",
   "execution_count": 20,
   "metadata": {},
   "outputs": [],
   "source": [
    "import astropy.coordinates\n",
    "import astropy.units as u\n",
    "source_guess = astropy.coordinates.name_resolve.get_icrs_coordinates(hdulist[0].header['OBJECT'])"
   ]
  },
  {
   "cell_type": "code",
   "execution_count": 21,
   "metadata": {},
   "outputs": [
    {
     "name": "stdout",
     "output_type": "stream",
     "text": [
      "<SkyCoord (ICRS): (ra, dec) in deg\n",
      "    (53.4019083, -36.1406583)>\n",
      "53.4019083 -36.1406583\n"
     ]
    }
   ],
   "source": [
    "print(source_guess)\n",
    "print(source_guess.ra/u.deg, source_guess.dec/u.deg)"
   ]
  },
  {
   "cell_type": "code",
   "execution_count": 24,
   "metadata": {},
   "outputs": [
    {
     "ename": "KeyboardInterrupt",
     "evalue": "",
     "output_type": "error",
     "traceback": [
      "\u001b[0;31m---------------------------------------------------------------------------\u001b[0m",
      "\u001b[0;31mKeyboardInterrupt\u001b[0m                         Traceback (most recent call last)",
      "Cell \u001b[0;32mIn[24], line 12\u001b[0m\n\u001b[1;32m      1\u001b[0m \u001b[38;5;66;03m# solver = astrometry.Solver(\u001b[39;00m\n\u001b[1;32m      2\u001b[0m \u001b[38;5;66;03m#     astrometry.series_4200.index_files(\u001b[39;00m\n\u001b[1;32m      3\u001b[0m \u001b[38;5;66;03m#         cache_directory=\"astrometry_cache\",\u001b[39;00m\n\u001b[0;32m   (...)\u001b[0m\n\u001b[1;32m     10\u001b[0m \u001b[38;5;66;03m#         scales={6},\u001b[39;00m\n\u001b[1;32m     11\u001b[0m \u001b[38;5;66;03m#     )\u001b[39;00m\n\u001b[0;32m---> 12\u001b[0m idx \u001b[38;5;241m=\u001b[39m \u001b[43mastrometry\u001b[49m\u001b[38;5;241;43m.\u001b[39;49m\u001b[43mseries_5000\u001b[49m\u001b[38;5;241;43m.\u001b[39;49m\u001b[43mindex_files\u001b[49m\u001b[43m(\u001b[49m\n\u001b[1;32m     13\u001b[0m \u001b[43m    \u001b[49m\u001b[43mcache_directory\u001b[49m\u001b[38;5;241;43m=\u001b[39;49m\u001b[38;5;124;43m'\u001b[39;49m\u001b[38;5;124;43mlocal_cache_5000\u001b[39;49m\u001b[38;5;124;43m'\u001b[39;49m\u001b[43m,\u001b[49m\n\u001b[1;32m     14\u001b[0m \u001b[43m        \u001b[49m\u001b[43mscales\u001b[49m\u001b[38;5;241;43m=\u001b[39;49m\u001b[43m{\u001b[49m\u001b[38;5;241;43m2\u001b[39;49m\u001b[43m,\u001b[49m\u001b[38;5;241;43m6\u001b[39;49m\u001b[43m}\u001b[49m\u001b[43m,\u001b[49m\n\u001b[1;32m     15\u001b[0m \u001b[43m    \u001b[49m\u001b[43m)\u001b[49m\n\u001b[1;32m     16\u001b[0m \u001b[38;5;28mprint\u001b[39m(idx)\n",
      "File \u001b[0;32m~/.pyenv/versions/3.10/lib/python3.10/site-packages/astrometry/series.py:150\u001b[0m, in \u001b[0;36mSeries.index_files\u001b[0;34m(self, cache_directory, scales)\u001b[0m\n\u001b[1;32m    148\u001b[0m         worker\u001b[38;5;241m.\u001b[39mstart()\n\u001b[1;32m    149\u001b[0m     \u001b[38;5;28;01mfor\u001b[39;00m worker \u001b[38;5;129;01min\u001b[39;00m workers:\n\u001b[0;32m--> 150\u001b[0m         \u001b[43mworker\u001b[49m\u001b[38;5;241;43m.\u001b[39;49m\u001b[43mjoin\u001b[49m\u001b[43m(\u001b[49m\u001b[43m)\u001b[49m\n\u001b[1;32m    151\u001b[0m \u001b[38;5;28;01mreturn\u001b[39;00m paths\n",
      "File \u001b[0;32m~/.pyenv/versions/3.10.5/lib/python3.10/threading.py:1096\u001b[0m, in \u001b[0;36mThread.join\u001b[0;34m(self, timeout)\u001b[0m\n\u001b[1;32m   1093\u001b[0m     \u001b[38;5;28;01mraise\u001b[39;00m \u001b[38;5;167;01mRuntimeError\u001b[39;00m(\u001b[38;5;124m\"\u001b[39m\u001b[38;5;124mcannot join current thread\u001b[39m\u001b[38;5;124m\"\u001b[39m)\n\u001b[1;32m   1095\u001b[0m \u001b[38;5;28;01mif\u001b[39;00m timeout \u001b[38;5;129;01mis\u001b[39;00m \u001b[38;5;28;01mNone\u001b[39;00m:\n\u001b[0;32m-> 1096\u001b[0m     \u001b[38;5;28;43mself\u001b[39;49m\u001b[38;5;241;43m.\u001b[39;49m\u001b[43m_wait_for_tstate_lock\u001b[49m\u001b[43m(\u001b[49m\u001b[43m)\u001b[49m\n\u001b[1;32m   1097\u001b[0m \u001b[38;5;28;01melse\u001b[39;00m:\n\u001b[1;32m   1098\u001b[0m     \u001b[38;5;66;03m# the behavior of a negative timeout isn't documented, but\u001b[39;00m\n\u001b[1;32m   1099\u001b[0m     \u001b[38;5;66;03m# historically .join(timeout=x) for x<0 has acted as if timeout=0\u001b[39;00m\n\u001b[1;32m   1100\u001b[0m     \u001b[38;5;28mself\u001b[39m\u001b[38;5;241m.\u001b[39m_wait_for_tstate_lock(timeout\u001b[38;5;241m=\u001b[39m\u001b[38;5;28mmax\u001b[39m(timeout, \u001b[38;5;241m0\u001b[39m))\n",
      "File \u001b[0;32m~/.pyenv/versions/3.10.5/lib/python3.10/threading.py:1116\u001b[0m, in \u001b[0;36mThread._wait_for_tstate_lock\u001b[0;34m(self, block, timeout)\u001b[0m\n\u001b[1;32m   1113\u001b[0m     \u001b[38;5;28;01mreturn\u001b[39;00m\n\u001b[1;32m   1115\u001b[0m \u001b[38;5;28;01mtry\u001b[39;00m:\n\u001b[0;32m-> 1116\u001b[0m     \u001b[38;5;28;01mif\u001b[39;00m \u001b[43mlock\u001b[49m\u001b[38;5;241;43m.\u001b[39;49m\u001b[43macquire\u001b[49m\u001b[43m(\u001b[49m\u001b[43mblock\u001b[49m\u001b[43m,\u001b[49m\u001b[43m \u001b[49m\u001b[43mtimeout\u001b[49m\u001b[43m)\u001b[49m:\n\u001b[1;32m   1117\u001b[0m         lock\u001b[38;5;241m.\u001b[39mrelease()\n\u001b[1;32m   1118\u001b[0m         \u001b[38;5;28mself\u001b[39m\u001b[38;5;241m.\u001b[39m_stop()\n",
      "\u001b[0;31mKeyboardInterrupt\u001b[0m: "
     ]
    }
   ],
   "source": [
    "# solver = astrometry.Solver(\n",
    "#     astrometry.series_4200.index_files(\n",
    "#         cache_directory=\"astrometry_cache\",\n",
    "# #        scales={6},\n",
    "#         scales={4,7,12},\n",
    "#     )\n",
    "# )\n",
    "# idx = astrometry.series_5000.index_files(\n",
    "#     cache_directory='/nas/t7black/astrometry/data/5000',\n",
    "#         scales={6},\n",
    "#     )\n",
    "idx = astrometry.series_5000.index_files(\n",
    "    cache_directory='local_cache_5000',\n",
    "        scales={2,6},\n",
    "    )\n",
    "print(idx)"
   ]
  },
  {
   "cell_type": "code",
   "execution_count": 29,
   "metadata": {},
   "outputs": [
    {
     "name": "stdout",
     "output_type": "stream",
     "text": [
      "[PosixPath('/nas/t7black/astrometry/data/4200/index-4202-00.fits'), PosixPath('/nas/t7black/astrometry/data/4200/index-4202-01.fits'), PosixPath('/nas/t7black/astrometry/data/4200/index-4202-02.fits'), PosixPath('/nas/t7black/astrometry/data/4200/index-4202-03.fits'), PosixPath('/nas/t7black/astrometry/data/4200/index-4202-04.fits'), PosixPath('/nas/t7black/astrometry/data/4200/index-4202-05.fits'), PosixPath('/nas/t7black/astrometry/data/4200/index-4202-06.fits'), PosixPath('/nas/t7black/astrometry/data/4200/index-4202-07.fits'), PosixPath('/nas/t7black/astrometry/data/4200/index-4202-08.fits'), PosixPath('/nas/t7black/astrometry/data/4200/index-4202-09.fits'), PosixPath('/nas/t7black/astrometry/data/4200/index-4202-10.fits'), PosixPath('/nas/t7black/astrometry/data/4200/index-4202-11.fits'), PosixPath('/nas/t7black/astrometry/data/4200/index-4202-12.fits'), PosixPath('/nas/t7black/astrometry/data/4200/index-4202-13.fits'), PosixPath('/nas/t7black/astrometry/data/4200/index-4202-14.fits'), PosixPath('/nas/t7black/astrometry/data/4200/index-4202-15.fits'), PosixPath('/nas/t7black/astrometry/data/4200/index-4202-16.fits'), PosixPath('/nas/t7black/astrometry/data/4200/index-4202-17.fits'), PosixPath('/nas/t7black/astrometry/data/4200/index-4202-18.fits'), PosixPath('/nas/t7black/astrometry/data/4200/index-4202-19.fits'), PosixPath('/nas/t7black/astrometry/data/4200/index-4202-20.fits'), PosixPath('/nas/t7black/astrometry/data/4200/index-4202-21.fits'), PosixPath('/nas/t7black/astrometry/data/4200/index-4202-22.fits'), PosixPath('/nas/t7black/astrometry/data/4200/index-4202-23.fits'), PosixPath('/nas/t7black/astrometry/data/4200/index-4202-24.fits'), PosixPath('/nas/t7black/astrometry/data/4200/index-4202-25.fits'), PosixPath('/nas/t7black/astrometry/data/4200/index-4202-26.fits'), PosixPath('/nas/t7black/astrometry/data/4200/index-4202-27.fits'), PosixPath('/nas/t7black/astrometry/data/4200/index-4202-28.fits'), PosixPath('/nas/t7black/astrometry/data/4200/index-4202-29.fits'), PosixPath('/nas/t7black/astrometry/data/4200/index-4202-30.fits'), PosixPath('/nas/t7black/astrometry/data/4200/index-4202-31.fits'), PosixPath('/nas/t7black/astrometry/data/4200/index-4202-32.fits'), PosixPath('/nas/t7black/astrometry/data/4200/index-4202-33.fits'), PosixPath('/nas/t7black/astrometry/data/4200/index-4202-34.fits'), PosixPath('/nas/t7black/astrometry/data/4200/index-4202-35.fits'), PosixPath('/nas/t7black/astrometry/data/4200/index-4202-36.fits'), PosixPath('/nas/t7black/astrometry/data/4200/index-4202-37.fits'), PosixPath('/nas/t7black/astrometry/data/4200/index-4202-38.fits'), PosixPath('/nas/t7black/astrometry/data/4200/index-4202-39.fits'), PosixPath('/nas/t7black/astrometry/data/4200/index-4202-40.fits'), PosixPath('/nas/t7black/astrometry/data/4200/index-4202-41.fits'), PosixPath('/nas/t7black/astrometry/data/4200/index-4202-42.fits'), PosixPath('/nas/t7black/astrometry/data/4200/index-4202-43.fits'), PosixPath('/nas/t7black/astrometry/data/4200/index-4202-44.fits'), PosixPath('/nas/t7black/astrometry/data/4200/index-4202-45.fits'), PosixPath('/nas/t7black/astrometry/data/4200/index-4202-46.fits'), PosixPath('/nas/t7black/astrometry/data/4200/index-4202-47.fits'), PosixPath('/nas/t7black/astrometry/data/4200/index-4206-00.fits'), PosixPath('/nas/t7black/astrometry/data/4200/index-4206-01.fits'), PosixPath('/nas/t7black/astrometry/data/4200/index-4206-02.fits'), PosixPath('/nas/t7black/astrometry/data/4200/index-4206-03.fits'), PosixPath('/nas/t7black/astrometry/data/4200/index-4206-04.fits'), PosixPath('/nas/t7black/astrometry/data/4200/index-4206-05.fits'), PosixPath('/nas/t7black/astrometry/data/4200/index-4206-06.fits'), PosixPath('/nas/t7black/astrometry/data/4200/index-4206-07.fits'), PosixPath('/nas/t7black/astrometry/data/4200/index-4206-08.fits'), PosixPath('/nas/t7black/astrometry/data/4200/index-4206-09.fits'), PosixPath('/nas/t7black/astrometry/data/4200/index-4206-10.fits'), PosixPath('/nas/t7black/astrometry/data/4200/index-4206-11.fits')]\n"
     ]
    }
   ],
   "source": [
    "idx = astrometry.series_4200.index_files(\n",
    "    cache_directory='/nas/t7black/astrometry/data',\n",
    "        scales={2,6},\n",
    "    )\n",
    "print(idx)"
   ]
  },
  {
   "cell_type": "code",
   "execution_count": 30,
   "metadata": {},
   "outputs": [
    {
     "name": "stderr",
     "output_type": "stream",
     "text": [
      "INFO:root:loaded 60 index files\n"
     ]
    }
   ],
   "source": [
    "solver = astrometry.Solver(idx)"
   ]
  },
  {
   "cell_type": "code",
   "execution_count": 32,
   "metadata": {},
   "outputs": [
    {
     "name": "stderr",
     "output_type": "stream",
     "text": [
      "INFO:root:solve 2: start\n",
      "INFO:root:solve 2: slice=[0, 25[ (1 / 2), index=\"4200/index-4202-34.fits\" (1 / 2)\n",
      "INFO:root:solve 2: slice=[0, 25[ (1 / 2), index=\"4200/index-4206-08.fits\" (2 / 2)\n",
      "INFO:root:solve 2: slice=[25, 50[ (2 / 2), index=\"4200/index-4202-34.fits\" (1 / 2)\n",
      "INFO:root:solve 2: logodds=37.9993, matches=12, conflicts=5, distractors=31, ra=53.3996, dec=-36.1304, scale=0.405309, index=\"4200/index-4202-34.fits\"\n",
      "INFO:root:solve 2: logodds=40.3467, matches=12, conflicts=4, distractors=32, ra=53.3995, dec=-36.1304, scale=0.404914, index=\"4200/index-4202-34.fits\"\n",
      "INFO:root:solve 2: slice=[25, 50[ (2 / 2), index=\"4200/index-4206-08.fits\" (2 / 2)\n"
     ]
    },
    {
     "name": "stdout",
     "output_type": "stream",
     "text": [
      "Solution has a match? True\n"
     ]
    }
   ],
   "source": [
    "solution = solver.solve(\n",
    "    stars=positions,\n",
    "    size_hint=     astrometry.SizeHint(\n",
    "        lower_arcsec_per_pixel=0.30,\n",
    "        upper_arcsec_per_pixel=0.55,\n",
    "    ),\n",
    "    position_hint=astrometry.PositionHint(\n",
    "        ra_deg=source_guess.ra/u.deg,\n",
    "        dec_deg=source_guess.dec/u.deg,\n",
    "        radius_deg=1,\n",
    "    ),\n",
    "    solution_parameters=astrometry.SolutionParameters(),\n",
    ")\n",
    "\n",
    "print(\"Solution has a match?\", solution.has_match())"
   ]
  },
  {
   "cell_type": "code",
   "execution_count": 33,
   "metadata": {},
   "outputs": [
    {
     "name": "stderr",
     "output_type": "stream",
     "text": [
      "INFO:root:solve 3: start\n",
      "INFO:root:solve 3: slice=[0, 25[ (1 / 2), index=\"4200/index-4202-00.fits\" (1 / 60)\n",
      "INFO:root:solve 3: slice=[0, 25[ (1 / 2), index=\"4200/index-4202-01.fits\" (2 / 60)\n",
      "INFO:root:solve 3: slice=[0, 25[ (1 / 2), index=\"4200/index-4202-02.fits\" (3 / 60)\n",
      "INFO:root:solve 3: slice=[0, 25[ (1 / 2), index=\"4200/index-4202-03.fits\" (4 / 60)\n",
      "INFO:root:solve 3: slice=[0, 25[ (1 / 2), index=\"4200/index-4202-04.fits\" (5 / 60)\n",
      "INFO:root:solve 3: slice=[0, 25[ (1 / 2), index=\"4200/index-4202-05.fits\" (6 / 60)\n",
      "INFO:root:solve 3: slice=[0, 25[ (1 / 2), index=\"4200/index-4202-06.fits\" (7 / 60)\n",
      "INFO:root:solve 3: slice=[0, 25[ (1 / 2), index=\"4200/index-4202-07.fits\" (8 / 60)\n",
      "INFO:root:solve 3: slice=[0, 25[ (1 / 2), index=\"4200/index-4202-08.fits\" (9 / 60)\n",
      "INFO:root:solve 3: slice=[0, 25[ (1 / 2), index=\"4200/index-4202-09.fits\" (10 / 60)\n",
      "INFO:root:solve 3: slice=[0, 25[ (1 / 2), index=\"4200/index-4202-10.fits\" (11 / 60)\n",
      "INFO:root:solve 3: slice=[0, 25[ (1 / 2), index=\"4200/index-4202-11.fits\" (12 / 60)\n",
      "INFO:root:solve 3: slice=[0, 25[ (1 / 2), index=\"4200/index-4202-12.fits\" (13 / 60)\n",
      "INFO:root:solve 3: slice=[0, 25[ (1 / 2), index=\"4200/index-4202-13.fits\" (14 / 60)\n",
      "INFO:root:solve 3: slice=[0, 25[ (1 / 2), index=\"4200/index-4202-14.fits\" (15 / 60)\n",
      "INFO:root:solve 3: slice=[0, 25[ (1 / 2), index=\"4200/index-4202-15.fits\" (16 / 60)\n",
      "INFO:root:solve 3: slice=[0, 25[ (1 / 2), index=\"4200/index-4202-16.fits\" (17 / 60)\n",
      "INFO:root:solve 3: slice=[0, 25[ (1 / 2), index=\"4200/index-4202-17.fits\" (18 / 60)\n",
      "INFO:root:solve 3: slice=[0, 25[ (1 / 2), index=\"4200/index-4202-18.fits\" (19 / 60)\n",
      "INFO:root:solve 3: slice=[0, 25[ (1 / 2), index=\"4200/index-4202-19.fits\" (20 / 60)\n",
      "INFO:root:solve 3: slice=[0, 25[ (1 / 2), index=\"4200/index-4202-20.fits\" (21 / 60)\n",
      "INFO:root:solve 3: slice=[0, 25[ (1 / 2), index=\"4200/index-4202-21.fits\" (22 / 60)\n",
      "INFO:root:solve 3: slice=[0, 25[ (1 / 2), index=\"4200/index-4202-22.fits\" (23 / 60)\n",
      "INFO:root:solve 3: slice=[0, 25[ (1 / 2), index=\"4200/index-4202-23.fits\" (24 / 60)\n",
      "INFO:root:solve 3: slice=[0, 25[ (1 / 2), index=\"4200/index-4202-24.fits\" (25 / 60)\n",
      "INFO:root:solve 3: slice=[0, 25[ (1 / 2), index=\"4200/index-4202-25.fits\" (26 / 60)\n",
      "INFO:root:solve 3: slice=[0, 25[ (1 / 2), index=\"4200/index-4202-26.fits\" (27 / 60)\n",
      "INFO:root:solve 3: slice=[0, 25[ (1 / 2), index=\"4200/index-4202-27.fits\" (28 / 60)\n",
      "INFO:root:solve 3: slice=[0, 25[ (1 / 2), index=\"4200/index-4202-28.fits\" (29 / 60)\n",
      "INFO:root:solve 3: slice=[0, 25[ (1 / 2), index=\"4200/index-4202-29.fits\" (30 / 60)\n",
      "INFO:root:solve 3: slice=[0, 25[ (1 / 2), index=\"4200/index-4202-30.fits\" (31 / 60)\n",
      "INFO:root:solve 3: slice=[0, 25[ (1 / 2), index=\"4200/index-4202-31.fits\" (32 / 60)\n",
      "INFO:root:solve 3: slice=[0, 25[ (1 / 2), index=\"4200/index-4202-32.fits\" (33 / 60)\n",
      "INFO:root:solve 3: slice=[0, 25[ (1 / 2), index=\"4200/index-4202-33.fits\" (34 / 60)\n",
      "INFO:root:solve 3: slice=[0, 25[ (1 / 2), index=\"4200/index-4202-34.fits\" (35 / 60)\n",
      "INFO:root:solve 3: slice=[0, 25[ (1 / 2), index=\"4200/index-4202-35.fits\" (36 / 60)\n",
      "INFO:root:solve 3: slice=[0, 25[ (1 / 2), index=\"4200/index-4202-36.fits\" (37 / 60)\n",
      "INFO:root:solve 3: slice=[0, 25[ (1 / 2), index=\"4200/index-4202-37.fits\" (38 / 60)\n",
      "INFO:root:solve 3: slice=[0, 25[ (1 / 2), index=\"4200/index-4202-38.fits\" (39 / 60)\n",
      "INFO:root:solve 3: slice=[0, 25[ (1 / 2), index=\"4200/index-4202-39.fits\" (40 / 60)\n",
      "INFO:root:solve 3: slice=[0, 25[ (1 / 2), index=\"4200/index-4202-40.fits\" (41 / 60)\n",
      "INFO:root:solve 3: slice=[0, 25[ (1 / 2), index=\"4200/index-4202-41.fits\" (42 / 60)\n",
      "INFO:root:solve 3: slice=[0, 25[ (1 / 2), index=\"4200/index-4202-42.fits\" (43 / 60)\n",
      "INFO:root:solve 3: slice=[0, 25[ (1 / 2), index=\"4200/index-4202-43.fits\" (44 / 60)\n",
      "INFO:root:solve 3: slice=[0, 25[ (1 / 2), index=\"4200/index-4202-44.fits\" (45 / 60)\n",
      "INFO:root:solve 3: slice=[0, 25[ (1 / 2), index=\"4200/index-4202-45.fits\" (46 / 60)\n",
      "INFO:root:solve 3: slice=[0, 25[ (1 / 2), index=\"4200/index-4202-46.fits\" (47 / 60)\n",
      "INFO:root:solve 3: slice=[0, 25[ (1 / 2), index=\"4200/index-4202-47.fits\" (48 / 60)\n",
      "INFO:root:solve 3: slice=[0, 25[ (1 / 2), index=\"4200/index-4206-00.fits\" (49 / 60)\n",
      "INFO:root:solve 3: slice=[0, 25[ (1 / 2), index=\"4200/index-4206-01.fits\" (50 / 60)\n",
      "INFO:root:solve 3: slice=[0, 25[ (1 / 2), index=\"4200/index-4206-02.fits\" (51 / 60)\n",
      "INFO:root:solve 3: slice=[0, 25[ (1 / 2), index=\"4200/index-4206-03.fits\" (52 / 60)\n",
      "INFO:root:solve 3: slice=[0, 25[ (1 / 2), index=\"4200/index-4206-04.fits\" (53 / 60)\n",
      "INFO:root:solve 3: slice=[0, 25[ (1 / 2), index=\"4200/index-4206-05.fits\" (54 / 60)\n",
      "INFO:root:solve 3: slice=[0, 25[ (1 / 2), index=\"4200/index-4206-06.fits\" (55 / 60)\n",
      "INFO:root:solve 3: slice=[0, 25[ (1 / 2), index=\"4200/index-4206-07.fits\" (56 / 60)\n",
      "INFO:root:solve 3: slice=[0, 25[ (1 / 2), index=\"4200/index-4206-08.fits\" (57 / 60)\n",
      "INFO:root:solve 3: slice=[0, 25[ (1 / 2), index=\"4200/index-4206-09.fits\" (58 / 60)\n",
      "INFO:root:solve 3: slice=[0, 25[ (1 / 2), index=\"4200/index-4206-10.fits\" (59 / 60)\n",
      "INFO:root:solve 3: slice=[0, 25[ (1 / 2), index=\"4200/index-4206-11.fits\" (60 / 60)\n",
      "INFO:root:solve 3: slice=[25, 50[ (2 / 2), index=\"4200/index-4202-00.fits\" (1 / 60)\n",
      "INFO:root:solve 3: slice=[25, 50[ (2 / 2), index=\"4200/index-4202-01.fits\" (2 / 60)\n",
      "INFO:root:solve 3: slice=[25, 50[ (2 / 2), index=\"4200/index-4202-02.fits\" (3 / 60)\n",
      "INFO:root:solve 3: slice=[25, 50[ (2 / 2), index=\"4200/index-4202-03.fits\" (4 / 60)\n",
      "INFO:root:solve 3: slice=[25, 50[ (2 / 2), index=\"4200/index-4202-04.fits\" (5 / 60)\n",
      "INFO:root:solve 3: slice=[25, 50[ (2 / 2), index=\"4200/index-4202-05.fits\" (6 / 60)\n",
      "INFO:root:solve 3: slice=[25, 50[ (2 / 2), index=\"4200/index-4202-06.fits\" (7 / 60)\n",
      "INFO:root:solve 3: slice=[25, 50[ (2 / 2), index=\"4200/index-4202-07.fits\" (8 / 60)\n",
      "INFO:root:solve 3: slice=[25, 50[ (2 / 2), index=\"4200/index-4202-08.fits\" (9 / 60)\n",
      "INFO:root:solve 3: slice=[25, 50[ (2 / 2), index=\"4200/index-4202-09.fits\" (10 / 60)\n",
      "INFO:root:solve 3: slice=[25, 50[ (2 / 2), index=\"4200/index-4202-10.fits\" (11 / 60)\n",
      "INFO:root:solve 3: slice=[25, 50[ (2 / 2), index=\"4200/index-4202-11.fits\" (12 / 60)\n",
      "INFO:root:solve 3: slice=[25, 50[ (2 / 2), index=\"4200/index-4202-12.fits\" (13 / 60)\n",
      "INFO:root:solve 3: slice=[25, 50[ (2 / 2), index=\"4200/index-4202-13.fits\" (14 / 60)\n",
      "INFO:root:solve 3: slice=[25, 50[ (2 / 2), index=\"4200/index-4202-14.fits\" (15 / 60)\n",
      "INFO:root:solve 3: slice=[25, 50[ (2 / 2), index=\"4200/index-4202-15.fits\" (16 / 60)\n",
      "INFO:root:solve 3: slice=[25, 50[ (2 / 2), index=\"4200/index-4202-16.fits\" (17 / 60)\n",
      "INFO:root:solve 3: slice=[25, 50[ (2 / 2), index=\"4200/index-4202-17.fits\" (18 / 60)\n",
      "INFO:root:solve 3: slice=[25, 50[ (2 / 2), index=\"4200/index-4202-18.fits\" (19 / 60)\n",
      "INFO:root:solve 3: slice=[25, 50[ (2 / 2), index=\"4200/index-4202-19.fits\" (20 / 60)\n",
      "INFO:root:solve 3: slice=[25, 50[ (2 / 2), index=\"4200/index-4202-20.fits\" (21 / 60)\n",
      "INFO:root:solve 3: slice=[25, 50[ (2 / 2), index=\"4200/index-4202-21.fits\" (22 / 60)\n",
      "INFO:root:solve 3: slice=[25, 50[ (2 / 2), index=\"4200/index-4202-22.fits\" (23 / 60)\n",
      "INFO:root:solve 3: slice=[25, 50[ (2 / 2), index=\"4200/index-4202-23.fits\" (24 / 60)\n",
      "INFO:root:solve 3: slice=[25, 50[ (2 / 2), index=\"4200/index-4202-24.fits\" (25 / 60)\n",
      "INFO:root:solve 3: slice=[25, 50[ (2 / 2), index=\"4200/index-4202-25.fits\" (26 / 60)\n",
      "INFO:root:solve 3: slice=[25, 50[ (2 / 2), index=\"4200/index-4202-26.fits\" (27 / 60)\n",
      "INFO:root:solve 3: slice=[25, 50[ (2 / 2), index=\"4200/index-4202-27.fits\" (28 / 60)\n",
      "INFO:root:solve 3: slice=[25, 50[ (2 / 2), index=\"4200/index-4202-28.fits\" (29 / 60)\n",
      "INFO:root:solve 3: slice=[25, 50[ (2 / 2), index=\"4200/index-4202-29.fits\" (30 / 60)\n",
      "INFO:root:solve 3: slice=[25, 50[ (2 / 2), index=\"4200/index-4202-30.fits\" (31 / 60)\n",
      "INFO:root:solve 3: slice=[25, 50[ (2 / 2), index=\"4200/index-4202-31.fits\" (32 / 60)\n",
      "INFO:root:solve 3: slice=[25, 50[ (2 / 2), index=\"4200/index-4202-32.fits\" (33 / 60)\n",
      "INFO:root:solve 3: slice=[25, 50[ (2 / 2), index=\"4200/index-4202-33.fits\" (34 / 60)\n",
      "INFO:root:solve 3: slice=[25, 50[ (2 / 2), index=\"4200/index-4202-34.fits\" (35 / 60)\n",
      "INFO:root:solve 3: logodds=37.9993, matches=12, conflicts=5, distractors=31, ra=53.3996, dec=-36.1304, scale=0.405309, index=\"4200/index-4202-34.fits\"\n",
      "INFO:root:solve 3: logodds=40.3467, matches=12, conflicts=4, distractors=32, ra=53.3995, dec=-36.1304, scale=0.404914, index=\"4200/index-4202-34.fits\"\n",
      "INFO:root:solve 3: slice=[25, 50[ (2 / 2), index=\"4200/index-4202-35.fits\" (36 / 60)\n",
      "INFO:root:solve 3: slice=[25, 50[ (2 / 2), index=\"4200/index-4202-36.fits\" (37 / 60)\n",
      "INFO:root:solve 3: slice=[25, 50[ (2 / 2), index=\"4200/index-4202-37.fits\" (38 / 60)\n",
      "INFO:root:solve 3: slice=[25, 50[ (2 / 2), index=\"4200/index-4202-38.fits\" (39 / 60)\n",
      "INFO:root:solve 3: slice=[25, 50[ (2 / 2), index=\"4200/index-4202-39.fits\" (40 / 60)\n",
      "INFO:root:solve 3: slice=[25, 50[ (2 / 2), index=\"4200/index-4202-40.fits\" (41 / 60)\n",
      "INFO:root:solve 3: slice=[25, 50[ (2 / 2), index=\"4200/index-4202-41.fits\" (42 / 60)\n",
      "INFO:root:solve 3: slice=[25, 50[ (2 / 2), index=\"4200/index-4202-42.fits\" (43 / 60)\n",
      "INFO:root:solve 3: slice=[25, 50[ (2 / 2), index=\"4200/index-4202-43.fits\" (44 / 60)\n",
      "INFO:root:solve 3: slice=[25, 50[ (2 / 2), index=\"4200/index-4202-44.fits\" (45 / 60)\n",
      "INFO:root:solve 3: slice=[25, 50[ (2 / 2), index=\"4200/index-4202-45.fits\" (46 / 60)\n",
      "INFO:root:solve 3: slice=[25, 50[ (2 / 2), index=\"4200/index-4202-46.fits\" (47 / 60)\n",
      "INFO:root:solve 3: slice=[25, 50[ (2 / 2), index=\"4200/index-4202-47.fits\" (48 / 60)\n",
      "INFO:root:solve 3: slice=[25, 50[ (2 / 2), index=\"4200/index-4206-00.fits\" (49 / 60)\n",
      "INFO:root:solve 3: slice=[25, 50[ (2 / 2), index=\"4200/index-4206-01.fits\" (50 / 60)\n",
      "INFO:root:solve 3: slice=[25, 50[ (2 / 2), index=\"4200/index-4206-02.fits\" (51 / 60)\n",
      "INFO:root:solve 3: slice=[25, 50[ (2 / 2), index=\"4200/index-4206-03.fits\" (52 / 60)\n",
      "INFO:root:solve 3: slice=[25, 50[ (2 / 2), index=\"4200/index-4206-04.fits\" (53 / 60)\n",
      "INFO:root:solve 3: slice=[25, 50[ (2 / 2), index=\"4200/index-4206-05.fits\" (54 / 60)\n",
      "INFO:root:solve 3: slice=[25, 50[ (2 / 2), index=\"4200/index-4206-06.fits\" (55 / 60)\n",
      "INFO:root:solve 3: slice=[25, 50[ (2 / 2), index=\"4200/index-4206-07.fits\" (56 / 60)\n",
      "INFO:root:solve 3: slice=[25, 50[ (2 / 2), index=\"4200/index-4206-08.fits\" (57 / 60)\n",
      "INFO:root:solve 3: slice=[25, 50[ (2 / 2), index=\"4200/index-4206-09.fits\" (58 / 60)\n",
      "INFO:root:solve 3: slice=[25, 50[ (2 / 2), index=\"4200/index-4206-10.fits\" (59 / 60)\n",
      "INFO:root:solve 3: slice=[25, 50[ (2 / 2), index=\"4200/index-4206-11.fits\" (60 / 60)\n"
     ]
    },
    {
     "name": "stdout",
     "output_type": "stream",
     "text": [
      "Solution has a match? True\n"
     ]
    }
   ],
   "source": [
    "solution = solver.solve(\n",
    "    stars=positions,\n",
    "    size_hint=     astrometry.SizeHint(\n",
    "        lower_arcsec_per_pixel=0.30,\n",
    "        upper_arcsec_per_pixel=0.55,\n",
    "    ),\n",
    "    position_hint=None,\n",
    "    solution_parameters=astrometry.SolutionParameters(),\n",
    ")\n",
    "\n",
    "print(\"Solution has a match?\", solution.has_match())"
   ]
  },
  {
   "cell_type": "code",
   "execution_count": 74,
   "metadata": {},
   "outputs": [
    {
     "name": "stdout",
     "output_type": "stream",
     "text": [
      "Match(logodds=40.34669494628906, center_ra_deg=53.39945420921245, center_dec_deg=-36.13038916119913, scale_arcsec_per_pixel=0.4049137201353035, index_path=PosixPath('/nas/t7black/astrometry/data/4200/index-4202-34.fits'), stars=(Star(ra_deg=53.45654100769637, dec_deg=-36.12864698409525, metadata={'j_mag': 13.548999786376953}), Star(ra_deg=53.476637985680426, dec_deg=-36.13319801060871, metadata={'j_mag': 12.071000099182129}), Star(ra_deg=53.373136986302505, dec_deg=-36.09738499604271, metadata={'j_mag': 16.079999923706055}), Star(ra_deg=53.4015950002115, dec_deg=-36.14047599304273, metadata={'j_mag': 11.343999862670898}), Star(ra_deg=53.40723598837045, dec_deg=-36.135796002031285, metadata={'j_mag': 15.060999870300293}), Star(ra_deg=53.36291898725138, dec_deg=-36.12852899105486, metadata={'j_mag': 16.090999603271484}), Star(ra_deg=53.40233999310698, dec_deg=-36.142001989472114, metadata={'j_mag': 11.83899974822998}), Star(ra_deg=53.41870399466764, dec_deg=-36.141124989693694, metadata={'j_mag': 16.246999740600586}), Star(ra_deg=53.401682010910854, dec_deg=-36.13830600316226, metadata={'j_mag': 11.944000244140625}), Star(ra_deg=53.42437898626253, dec_deg=-36.12531698604967, metadata={'j_mag': 16.292999267578125}), Star(ra_deg=53.403818004280005, dec_deg=-36.13913298612273, metadata={'j_mag': 12.01200008392334}), Star(ra_deg=53.43039098712857, dec_deg=-36.135559003559074, metadata={'j_mag': 16.325000762939453}), Star(ra_deg=53.39040001119646, dec_deg=-36.12068899538249, metadata={'j_mag': 12.14799976348877}), Star(ra_deg=53.40119799861867, dec_deg=-36.143226997323744, metadata={'j_mag': 12.416999816894531}), Star(ra_deg=53.40222300503279, dec_deg=-36.13751999419956, metadata={'j_mag': 13.532999992370605}), Star(ra_deg=53.41959199373257, dec_deg=-36.18142299061309, metadata={'j_mag': 13.836000442504883}), Star(ra_deg=53.40205599559721, dec_deg=-36.14113199375932, metadata={'j_mag': 10.881999969482422}), Star(ra_deg=53.400098996934155, dec_deg=-36.14064399028635, metadata={'j_mag': 11.215999603271484}), Star(ra_deg=53.34391301018486, dec_deg=-36.12065500809362, metadata={'j_mag': 14.312999725341797}), Star(ra_deg=53.43861301462921, dec_deg=-36.12448099906267, metadata={'j_mag': 15.020000457763672})), quad_stars=(Star(ra_deg=53.34391301018486, dec_deg=-36.12065500809362, metadata={'j_mag': 14.312999725341797}), Star(ra_deg=53.43861301462921, dec_deg=-36.12448099906267, metadata={'j_mag': 15.020000457763672}), Star(ra_deg=53.4015950002115, dec_deg=-36.14047599304273, metadata={'j_mag': 11.343999862670898}), Star(ra_deg=53.40233999310698, dec_deg=-36.142001989472114, metadata={'j_mag': 11.83899974822998})), wcs_fields={'WCSAXES': (2, 'Number of coordinate axes'), 'EQUINOX': (2000.0, 'Equatorial coordinates definition (yr)'), 'LONPOLE': (180.0, 'Native longitude of celestial pole (deg)'), 'LATPOLE': (0.0, 'Native latitude of celestial pole (deg)'), 'CRVAL1': (53.39616910393312, 'RA of reference point'), 'CRVAL2': (-36.131732759727036, 'DEC of reference point'), 'CRPIX1': (582.8121706018029, 'X reference pixel'), 'CRPIX2': (533.5549951768455, 'Y reference pixel'), 'CUNIT1': ('deg', 'X pixel scale units'), 'CUNIT2': ('deg', 'Y pixel scale units'), 'CD1_1': (-0.00011247200640591568, 'Transformation matrix'), 'CD1_2': (9.517656662447828e-07, 'Transformation matrix'), 'CD2_1': (-9.517656662447844e-07, 'Transformation matrix'), 'CD2_2': (-0.00011247200640591569, 'Transformation matrix'), 'CTYPE1': ('RA---TAN-SIP', 'TAN (gnomonic) projection + SIP distortions'), 'CTYPE2': ('DEC--TAN-SIP', 'TAN (gnomonic) projection + SIP distortions')})\n"
     ]
    },
    {
     "ename": "AttributeError",
     "evalue": "'Match' object has no attribute 'to_header'",
     "output_type": "error",
     "traceback": [
      "\u001b[0;31m---------------------------------------------------------------------------\u001b[0m",
      "\u001b[0;31mAttributeError\u001b[0m                            Traceback (most recent call last)",
      "Cell \u001b[0;32mIn[74], line 3\u001b[0m\n\u001b[1;32m      1\u001b[0m wcs \u001b[38;5;241m=\u001b[39m solution\u001b[38;5;241m.\u001b[39mbest_match()\u001b[38;5;66;03m# .astropy_wcs()\u001b[39;00m\n\u001b[1;32m      2\u001b[0m \u001b[38;5;28mprint\u001b[39m(wcs)\n\u001b[0;32m----> 3\u001b[0m \u001b[43mwcs\u001b[49m\u001b[38;5;241;43m.\u001b[39;49m\u001b[43mto_header\u001b[49m()\n\u001b[1;32m      5\u001b[0m \u001b[38;5;66;03m# merge header into input header\u001b[39;00m\n\u001b[1;32m      6\u001b[0m wcs_header \u001b[38;5;241m=\u001b[39m wcs\u001b[38;5;241m.\u001b[39mto_header()\n",
      "\u001b[0;31mAttributeError\u001b[0m: 'Match' object has no attribute 'to_header'"
     ]
    }
   ],
   "source": [
    "wcs = solution.best_match()# .astropy_wcs()\n",
    "print(wcs)\n",
    "wcs.to_header()\n",
    "\n",
    "# merge header into input header\n",
    "wcs_header = wcs.to_header()\n",
    "for key in wcs_header:\n",
    "    # print(key)\n",
    "    hdulist[0].header[key] = (wcs_header[key], wcs_header.comments[key]) \n",
    "    \n",
    "print(repr(hdulist[0].header))\n",
    "hdulist.writeto(\"dummy_calibrated.fits\", overwrite=True)"
   ]
  },
  {
   "cell_type": "code",
   "execution_count": 75,
   "metadata": {},
   "outputs": [
    {
     "name": "stdout",
     "output_type": "stream",
     "text": [
      "{'WCSAXES': (2, 'Number of coordinate axes'), 'EQUINOX': (2000.0, 'Equatorial coordinates definition (yr)'), 'LONPOLE': (180.0, 'Native longitude of celestial pole (deg)'), 'LATPOLE': (0.0, 'Native latitude of celestial pole (deg)'), 'CRVAL1': (53.39616910393312, 'RA of reference point'), 'CRVAL2': (-36.131732759727036, 'DEC of reference point'), 'CRPIX1': (582.8121706018029, 'X reference pixel'), 'CRPIX2': (533.5549951768455, 'Y reference pixel'), 'CUNIT1': ('deg', 'X pixel scale units'), 'CUNIT2': ('deg', 'Y pixel scale units'), 'CD1_1': (-0.00011247200640591568, 'Transformation matrix'), 'CD1_2': (9.517656662447828e-07, 'Transformation matrix'), 'CD2_1': (-9.517656662447844e-07, 'Transformation matrix'), 'CD2_2': (-0.00011247200640591569, 'Transformation matrix'), 'CTYPE1': ('RA---TAN-SIP', 'TAN (gnomonic) projection + SIP distortions'), 'CTYPE2': ('DEC--TAN-SIP', 'TAN (gnomonic) projection + SIP distortions')}\n"
     ]
    }
   ],
   "source": [
    "print(wcs.wcs_fields)"
   ]
  },
  {
   "cell_type": "code",
   "execution_count": 73,
   "metadata": {},
   "outputs": [
    {
     "name": "stdout",
     "output_type": "stream",
     "text": [
      "WCS Keywords\n",
      "\n",
      "Number of WCS axes: 2\n",
      "CTYPE : 'RA---TAN-SIP'  'DEC--TAN-SIP'  \n",
      "CRVAL : 53.39616910393312  -36.13173275972704  \n",
      "CRPIX : 582.8121706018029  533.5549951768455  \n",
      "CD1_1 CD1_2  : -0.00011247200640591  9.51765666244782e-07  \n",
      "CD2_1 CD2_2  : -9.5176566624478e-07  -0.00011247200640591  \n",
      "NAXIS : 0  0\n"
     ]
    }
   ],
   "source": [
    "print(wcs)"
   ]
  },
  {
   "cell_type": "code",
   "execution_count": 38,
   "metadata": {},
   "outputs": [],
   "source": [
    "# help(wcs)"
   ]
  },
  {
   "cell_type": "code",
   "execution_count": 114,
   "metadata": {},
   "outputs": [],
   "source": [
    "def calibrate_astrometry(input_fn, output_fn, src_n_sigma=15, target_name='auto', sip_order=1):\n",
    "    \n",
    "    logger = logging.getLogger(\"AstroCal\")\n",
    "    logger.info(\"Starting work on %s\" % (input_fn))\n",
    "    hdulist = pyfits.open(input_fn)\n",
    "    data = hdulist[0].data\n",
    "    \n",
    "    logger.debug(\"smoothing frame to get fewer stars\")\n",
    "    filt = scipy.ndimage.median_filter(input=data, size=3, mode='reflect')\n",
    "    \n",
    "    logger.debug(\"Finding sources\")\n",
    "    mean, median, std = sigma_clipped_stats(data, sigma=3.0)  \n",
    "    daofind = DAOStarFinder(fwhm=5.0, threshold=5.*std)\n",
    "    sources = daofind(filt - median)  \n",
    "    logger.info(\"Found %d sources in total\" % (len(sources)))\n",
    "    edge = 25\n",
    "    near_edge = (sources['xcentroid'] < edge) | (sources['ycentroid'] < edge) | (sources['xcentroid'] > 1010) | (sources['ycentroid'] > 1010)\n",
    "    sources = sources[~near_edge]\n",
    "    if (len(sources) > 100):\n",
    "        # select the top 100 brightest sources\n",
    "        flux_sort = np.argsort(sources['flux'])[::-1]\n",
    "        # print(sources['flux'][flux_sort])\n",
    "        sources = sources[flux_sort[:100]]\n",
    "\n",
    "    positions = sources[['xcentroid','ycentroid']].to_pandas().to_numpy()\n",
    "    logger.info(\"Using %d sources for astrometry\" % (positions.shape[0]))\n",
    "    \n",
    "    # getting source guess\n",
    "    if (target_name == 'auto'):\n",
    "        target_name = hdulist[0].header['OBJECT']\n",
    "    position_hint = None\n",
    "    if (target_name is not None):\n",
    "        try:\n",
    "            source_guess = astropy.coordinates.name_resolve.get_icrs_coordinates(target_name)\n",
    "            position_hint=astrometry.PositionHint(\n",
    "                ra_deg=source_guess.ra/u.deg,\n",
    "                dec_deg=source_guess.dec/u.deg,\n",
    "                radius_deg=3,\n",
    "            )\n",
    "            logger.info(\"Using position hint for %s: %s\" % (target_name, str(repr(source_guess))))\n",
    "        except:\n",
    "            pass\n",
    "    \n",
    "    idx = astrometry.series_4200.index_files(\n",
    "        cache_directory='/nas/t7black/astrometry/data',\n",
    "        scales={2,6},\n",
    "    )\n",
    "        \n",
    "    solution = solver.solve(\n",
    "        stars=positions,\n",
    "        size_hint=     astrometry.SizeHint(\n",
    "            lower_arcsec_per_pixel=0.30,\n",
    "            upper_arcsec_per_pixel=0.55,\n",
    "        ),\n",
    "        position_hint=position_hint,\n",
    "        solution_parameters=astrometry.SolutionParameters(sip_order=sip_order),\n",
    "    )\n",
    "    logger.info(\"Solution has a match? %s\" % ('yes' if solution.has_match() else 'no'))\n",
    "    \n",
    "    if (solution.has_match()):\n",
    "        wcs = solution.best_match() #.astropy_wcs()\n",
    "        print(wcs)\n",
    "        \n",
    "        # wcs.astropy_wcs().to_header()\n",
    "\n",
    "        # merge header into input header\n",
    "        wcs_header = wcs.wcs_fields #wcs.to_header()\n",
    "        for key in wcs_header:\n",
    "            # print(key)\n",
    "            hdulist[0].header[key] = wcs_header[key] #(wcs_header[key], wcs_header.comments[key]) \n",
    "\n",
    "        hdulist[0].header['CTYPE1'] = \"RA---TAN\"\n",
    "        hdulist[0].header['CTYPE2'] = \"DEC--TAN\"\n",
    "        logger.info(\"Writing output file to %s\" % (output_fn))\n",
    "        # print(repr(hdulist[0].header))\n",
    "        hdulist.writeto(output_fn, overwrite=True)\n",
    "        \n",
    "        return wcs, positions\n",
    "    else:\n",
    "        logger.error(\"No solution found, not writing output file\")\n",
    "        return None, positions"
   ]
  },
  {
   "cell_type": "code",
   "execution_count": 109,
   "metadata": {},
   "outputs": [
    {
     "name": "stderr",
     "output_type": "stream",
     "text": [
      "INFO:AstroCal:Starting work on 2018-01-07T032042__47tuc__dia_r__60.fits\n",
      "DEBUG:AstroCal:smoothing frame to get fewer stars\n",
      "DEBUG:AstroCal:Finding sources\n",
      "INFO:AstroCal:Found 3206 sources in total\n",
      "INFO:AstroCal:Using 100 sources for astrometry\n",
      "INFO:AstroCal:Using position hint for 47tuc: <SkyCoord (ICRS): (ra, dec) in deg\n",
      "    (6.0223292, -72.0814444)>\n",
      "INFO:root:solve 27: start\n",
      "INFO:root:solve 27: slice=[0, 25[ (1 / 4), index=\"4200/index-4202-32.fits\" (1 / 2)\n",
      "INFO:root:solve 27: slice=[0, 25[ (1 / 4), index=\"4200/index-4206-08.fits\" (2 / 2)\n",
      "INFO:root:solve 27: slice=[25, 50[ (2 / 4), index=\"4200/index-4202-32.fits\" (1 / 2)\n",
      "INFO:root:solve 27: slice=[25, 50[ (2 / 4), index=\"4200/index-4206-08.fits\" (2 / 2)\n",
      "INFO:root:solve 27: slice=[50, 75[ (3 / 4), index=\"4200/index-4202-32.fits\" (1 / 2)\n",
      "INFO:root:solve 27: logodds=61.3537, matches=17, conflicts=2, distractors=66, ra=5.99792, dec=-72.0763, scale=0.40118, index=\"4200/index-4202-32.fits\"\n"
     ]
    },
    {
     "ename": "KeyboardInterrupt",
     "evalue": "",
     "output_type": "error",
     "traceback": [
      "\u001b[0;31m---------------------------------------------------------------------------\u001b[0m",
      "\u001b[0;31mKeyboardInterrupt\u001b[0m                         Traceback (most recent call last)",
      "Cell \u001b[0;32mIn[109], line 1\u001b[0m\n\u001b[0;32m----> 1\u001b[0m wcs, positions \u001b[38;5;241m=\u001b[39m \u001b[43mcalibrate_astrometry\u001b[49m\u001b[43m(\u001b[49m\u001b[38;5;124;43m'\u001b[39;49m\u001b[38;5;124;43m2018-01-07T032042__47tuc__dia_r__60.fits\u001b[39;49m\u001b[38;5;124;43m'\u001b[39;49m\u001b[43m,\u001b[49m\u001b[43m \u001b[49m\u001b[38;5;124;43m'\u001b[39;49m\u001b[38;5;124;43mcal_47tuc_r.fits\u001b[39;49m\u001b[38;5;124;43m'\u001b[39;49m\u001b[43m)\u001b[49m\n",
      "Cell \u001b[0;32mIn[108], line 49\u001b[0m, in \u001b[0;36mcalibrate_astrometry\u001b[0;34m(input_fn, output_fn, src_n_sigma, target_name, sip_order)\u001b[0m\n\u001b[1;32m     42\u001b[0m         \u001b[38;5;28;01mpass\u001b[39;00m\n\u001b[1;32m     44\u001b[0m idx \u001b[38;5;241m=\u001b[39m astrometry\u001b[38;5;241m.\u001b[39mseries_4200\u001b[38;5;241m.\u001b[39mindex_files(\n\u001b[1;32m     45\u001b[0m     cache_directory\u001b[38;5;241m=\u001b[39m\u001b[38;5;124m'\u001b[39m\u001b[38;5;124m/nas/t7black/astrometry/data\u001b[39m\u001b[38;5;124m'\u001b[39m,\n\u001b[1;32m     46\u001b[0m     scales\u001b[38;5;241m=\u001b[39m{\u001b[38;5;241m2\u001b[39m,\u001b[38;5;241m6\u001b[39m},\n\u001b[1;32m     47\u001b[0m )\n\u001b[0;32m---> 49\u001b[0m solution \u001b[38;5;241m=\u001b[39m \u001b[43msolver\u001b[49m\u001b[38;5;241;43m.\u001b[39;49m\u001b[43msolve\u001b[49m\u001b[43m(\u001b[49m\n\u001b[1;32m     50\u001b[0m \u001b[43m    \u001b[49m\u001b[43mstars\u001b[49m\u001b[38;5;241;43m=\u001b[39;49m\u001b[43mpositions\u001b[49m\u001b[43m,\u001b[49m\n\u001b[1;32m     51\u001b[0m \u001b[43m    \u001b[49m\u001b[43msize_hint\u001b[49m\u001b[38;5;241;43m=\u001b[39;49m\u001b[43m     \u001b[49m\u001b[43mastrometry\u001b[49m\u001b[38;5;241;43m.\u001b[39;49m\u001b[43mSizeHint\u001b[49m\u001b[43m(\u001b[49m\n\u001b[1;32m     52\u001b[0m \u001b[43m        \u001b[49m\u001b[43mlower_arcsec_per_pixel\u001b[49m\u001b[38;5;241;43m=\u001b[39;49m\u001b[38;5;241;43m0.30\u001b[39;49m\u001b[43m,\u001b[49m\n\u001b[1;32m     53\u001b[0m \u001b[43m        \u001b[49m\u001b[43mupper_arcsec_per_pixel\u001b[49m\u001b[38;5;241;43m=\u001b[39;49m\u001b[38;5;241;43m0.55\u001b[39;49m\u001b[43m,\u001b[49m\n\u001b[1;32m     54\u001b[0m \u001b[43m    \u001b[49m\u001b[43m)\u001b[49m\u001b[43m,\u001b[49m\n\u001b[1;32m     55\u001b[0m \u001b[43m    \u001b[49m\u001b[43mposition_hint\u001b[49m\u001b[38;5;241;43m=\u001b[39;49m\u001b[43mposition_hint\u001b[49m\u001b[43m,\u001b[49m\n\u001b[1;32m     56\u001b[0m \u001b[43m    \u001b[49m\u001b[43msolution_parameters\u001b[49m\u001b[38;5;241;43m=\u001b[39;49m\u001b[43mastrometry\u001b[49m\u001b[38;5;241;43m.\u001b[39;49m\u001b[43mSolutionParameters\u001b[49m\u001b[43m(\u001b[49m\u001b[43msip_order\u001b[49m\u001b[38;5;241;43m=\u001b[39;49m\u001b[43msip_order\u001b[49m\u001b[43m)\u001b[49m\u001b[43m,\u001b[49m\n\u001b[1;32m     57\u001b[0m \u001b[43m\u001b[49m\u001b[43m)\u001b[49m\n\u001b[1;32m     58\u001b[0m logger\u001b[38;5;241m.\u001b[39minfo(\u001b[38;5;124m\"\u001b[39m\u001b[38;5;124mSolution has a match? \u001b[39m\u001b[38;5;132;01m%s\u001b[39;00m\u001b[38;5;124m\"\u001b[39m \u001b[38;5;241m%\u001b[39m (\u001b[38;5;124m'\u001b[39m\u001b[38;5;124myes\u001b[39m\u001b[38;5;124m'\u001b[39m \u001b[38;5;28;01mif\u001b[39;00m solution\u001b[38;5;241m.\u001b[39mhas_match() \u001b[38;5;28;01melse\u001b[39;00m \u001b[38;5;124m'\u001b[39m\u001b[38;5;124mno\u001b[39m\u001b[38;5;124m'\u001b[39m))\n\u001b[1;32m     60\u001b[0m \u001b[38;5;28;01mif\u001b[39;00m (solution\u001b[38;5;241m.\u001b[39mhas_match()):\n",
      "File \u001b[0;32m~/.pyenv/versions/3.10/lib/python3.10/site-packages/astrometry/__init__.py:276\u001b[0m, in \u001b[0;36mSolver.solve\u001b[0;34m(self, stars, size_hint, position_hint, solution_parameters)\u001b[0m\n\u001b[1;32m    271\u001b[0m     minimum_quad_size_pixels \u001b[38;5;241m=\u001b[39m solution_parameters\u001b[38;5;241m.\u001b[39mminimum_quad_size_pixels\n\u001b[1;32m    272\u001b[0m \u001b[38;5;28;01massert\u001b[39;00m (\n\u001b[1;32m    273\u001b[0m     solution_parameters\u001b[38;5;241m.\u001b[39mmaximum_quad_size_pixels \u001b[38;5;241m==\u001b[39m \u001b[38;5;241m0.0\u001b[39m\n\u001b[1;32m    274\u001b[0m     \u001b[38;5;129;01mor\u001b[39;00m minimum_quad_size_pixels \u001b[38;5;241m<\u001b[39m solution_parameters\u001b[38;5;241m.\u001b[39mmaximum_quad_size_pixels\n\u001b[1;32m    275\u001b[0m )\n\u001b[0;32m--> 276\u001b[0m raw_solution \u001b[38;5;241m=\u001b[39m \u001b[38;5;28;43msuper\u001b[39;49m\u001b[43m(\u001b[49m\u001b[43m)\u001b[49m\u001b[38;5;241;43m.\u001b[39;49m\u001b[43msolve\u001b[49m\u001b[43m(\u001b[49m\n\u001b[1;32m    277\u001b[0m \u001b[43m    \u001b[49m\u001b[43mstars_xs\u001b[49m\u001b[43m \u001b[49m\u001b[38;5;28;43;01mif\u001b[39;49;00m\u001b[43m \u001b[49m\u001b[38;5;28;43misinstance\u001b[39;49m\u001b[43m(\u001b[49m\u001b[43mstars_xs\u001b[49m\u001b[43m,\u001b[49m\u001b[43m \u001b[49m\u001b[38;5;28;43mlist\u001b[39;49m\u001b[43m)\u001b[49m\u001b[43m \u001b[49m\u001b[38;5;28;43;01melse\u001b[39;49;00m\u001b[43m \u001b[49m\u001b[38;5;28;43mlist\u001b[39;49m\u001b[43m(\u001b[49m\u001b[43mstars_xs\u001b[49m\u001b[43m)\u001b[49m\u001b[43m,\u001b[49m\n\u001b[1;32m    278\u001b[0m \u001b[43m    \u001b[49m\u001b[43mstars_ys\u001b[49m\u001b[43m \u001b[49m\u001b[38;5;28;43;01mif\u001b[39;49;00m\u001b[43m \u001b[49m\u001b[38;5;28;43misinstance\u001b[39;49m\u001b[43m(\u001b[49m\u001b[43mstars_ys\u001b[49m\u001b[43m,\u001b[49m\u001b[43m \u001b[49m\u001b[38;5;28;43mlist\u001b[39;49m\u001b[43m)\u001b[49m\u001b[43m \u001b[49m\u001b[38;5;28;43;01melse\u001b[39;49;00m\u001b[43m \u001b[49m\u001b[38;5;28;43mlist\u001b[39;49m\u001b[43m(\u001b[49m\u001b[43mstars_ys\u001b[49m\u001b[43m)\u001b[49m\u001b[43m,\u001b[49m\n\u001b[1;32m    279\u001b[0m \u001b[43m    \u001b[49m\u001b[43msize_hint\u001b[49m\u001b[38;5;241;43m.\u001b[39;49m\u001b[43mlower_arcsec_per_pixel\u001b[49m\u001b[43m,\u001b[49m\n\u001b[1;32m    280\u001b[0m \u001b[43m    \u001b[49m\u001b[43msize_hint\u001b[49m\u001b[38;5;241;43m.\u001b[39;49m\u001b[43mupper_arcsec_per_pixel\u001b[49m\u001b[43m,\u001b[49m\n\u001b[1;32m    281\u001b[0m \u001b[43m    \u001b[49m\u001b[38;5;28;43;01mNone\u001b[39;49;00m\n\u001b[1;32m    282\u001b[0m \u001b[43m    \u001b[49m\u001b[38;5;28;43;01mif\u001b[39;49;00m\u001b[43m \u001b[49m\u001b[43mposition_hint\u001b[49m\u001b[43m \u001b[49m\u001b[38;5;129;43;01mis\u001b[39;49;00m\u001b[43m \u001b[49m\u001b[38;5;28;43;01mNone\u001b[39;49;00m\n\u001b[1;32m    283\u001b[0m \u001b[43m    \u001b[49m\u001b[38;5;28;43;01melse\u001b[39;49;00m\u001b[43m \u001b[49m\u001b[43m(\u001b[49m\n\u001b[1;32m    284\u001b[0m \u001b[43m        \u001b[49m\u001b[43mposition_hint\u001b[49m\u001b[38;5;241;43m.\u001b[39;49m\u001b[43mra_deg\u001b[49m\u001b[43m,\u001b[49m\n\u001b[1;32m    285\u001b[0m \u001b[43m        \u001b[49m\u001b[43mposition_hint\u001b[49m\u001b[38;5;241;43m.\u001b[39;49m\u001b[43mdec_deg\u001b[49m\u001b[43m,\u001b[49m\n\u001b[1;32m    286\u001b[0m \u001b[43m        \u001b[49m\u001b[43mposition_hint\u001b[49m\u001b[38;5;241;43m.\u001b[39;49m\u001b[43mradius_deg\u001b[49m\u001b[43m,\u001b[49m\n\u001b[1;32m    287\u001b[0m \u001b[43m    \u001b[49m\u001b[43m)\u001b[49m\u001b[43m,\u001b[49m\n\u001b[1;32m    288\u001b[0m \u001b[43m    \u001b[49m\u001b[43msolve_id\u001b[49m\u001b[43m,\u001b[49m\n\u001b[1;32m    289\u001b[0m \u001b[43m    \u001b[49m\u001b[43msolution_parameters\u001b[49m\u001b[38;5;241;43m.\u001b[39;49m\u001b[43muniformize_index\u001b[49m\u001b[43m,\u001b[49m\n\u001b[1;32m    290\u001b[0m \u001b[43m    \u001b[49m\u001b[43msolution_parameters\u001b[49m\u001b[38;5;241;43m.\u001b[39;49m\u001b[43mdeduplicate\u001b[49m\u001b[43m,\u001b[49m\n\u001b[1;32m    291\u001b[0m \u001b[43m    \u001b[49m\u001b[43msolution_parameters\u001b[49m\u001b[38;5;241;43m.\u001b[39;49m\u001b[43msip_order\u001b[49m\u001b[43m,\u001b[49m\n\u001b[1;32m    292\u001b[0m \u001b[43m    \u001b[49m\u001b[43msolution_parameters\u001b[49m\u001b[38;5;241;43m.\u001b[39;49m\u001b[43msip_inverse_order\u001b[49m\u001b[43m,\u001b[49m\n\u001b[1;32m    293\u001b[0m \u001b[43m    \u001b[49m\u001b[43msolution_parameters\u001b[49m\u001b[38;5;241;43m.\u001b[39;49m\u001b[43mdistance_from_quad_bonus\u001b[49m\u001b[43m,\u001b[49m\n\u001b[1;32m    294\u001b[0m \u001b[43m    \u001b[49m\u001b[43msolution_parameters\u001b[49m\u001b[38;5;241;43m.\u001b[39;49m\u001b[43mpositional_noise_pixels\u001b[49m\u001b[43m,\u001b[49m\n\u001b[1;32m    295\u001b[0m \u001b[43m    \u001b[49m\u001b[43msolution_parameters\u001b[49m\u001b[38;5;241;43m.\u001b[39;49m\u001b[43mdistractor_ratio\u001b[49m\u001b[43m,\u001b[49m\n\u001b[1;32m    296\u001b[0m \u001b[43m    \u001b[49m\u001b[43msolution_parameters\u001b[49m\u001b[38;5;241;43m.\u001b[39;49m\u001b[43mcode_tolerance_l2_distance\u001b[49m\u001b[43m,\u001b[49m\n\u001b[1;32m    297\u001b[0m \u001b[43m    \u001b[49m\u001b[43mminimum_quad_size_pixels\u001b[49m\u001b[43m,\u001b[49m\n\u001b[1;32m    298\u001b[0m \u001b[43m    \u001b[49m\u001b[43msolution_parameters\u001b[49m\u001b[38;5;241;43m.\u001b[39;49m\u001b[43mmaximum_quad_size_pixels\u001b[49m\u001b[43m,\u001b[49m\n\u001b[1;32m    299\u001b[0m \u001b[43m    \u001b[49m\u001b[43msolution_parameters\u001b[49m\u001b[38;5;241;43m.\u001b[39;49m\u001b[43mmaximum_quads\u001b[49m\u001b[43m,\u001b[49m\n\u001b[1;32m    300\u001b[0m \u001b[43m    \u001b[49m\u001b[43msolution_parameters\u001b[49m\u001b[38;5;241;43m.\u001b[39;49m\u001b[43mmaximum_matches\u001b[49m\u001b[43m,\u001b[49m\n\u001b[1;32m    301\u001b[0m \u001b[43m    \u001b[49m\u001b[38;5;28;43mint\u001b[39;49m\u001b[43m(\u001b[49m\u001b[43msolution_parameters\u001b[49m\u001b[38;5;241;43m.\u001b[39;49m\u001b[43mparity\u001b[49m\u001b[43m)\u001b[49m\u001b[43m,\u001b[49m\n\u001b[1;32m    302\u001b[0m \u001b[43m    \u001b[49m\u001b[43msolution_parameters\u001b[49m\u001b[38;5;241;43m.\u001b[39;49m\u001b[43mtune_up_logodds_threshold\u001b[49m\u001b[43m,\u001b[49m\n\u001b[1;32m    303\u001b[0m \u001b[43m    \u001b[49m\u001b[43msolution_parameters\u001b[49m\u001b[38;5;241;43m.\u001b[39;49m\u001b[43moutput_logodds_threshold\u001b[49m\u001b[43m,\u001b[49m\n\u001b[1;32m    304\u001b[0m \u001b[43m    \u001b[49m\u001b[43mslices_starts\u001b[49m\u001b[43m,\u001b[49m\n\u001b[1;32m    305\u001b[0m \u001b[43m    \u001b[49m\u001b[43mslices_ends\u001b[49m\u001b[43m,\u001b[49m\n\u001b[1;32m    306\u001b[0m \u001b[43m    \u001b[49m\u001b[43msolution_parameters\u001b[49m\u001b[38;5;241;43m.\u001b[39;49m\u001b[43mlogodds_callback\u001b[49m\u001b[43m,\u001b[49m\n\u001b[1;32m    307\u001b[0m \u001b[43m\u001b[49m\u001b[43m)\u001b[49m\n\u001b[1;32m    308\u001b[0m \u001b[38;5;28;01mif\u001b[39;00m raw_solution \u001b[38;5;129;01mis\u001b[39;00m \u001b[38;5;28;01mNone\u001b[39;00m:\n\u001b[1;32m    309\u001b[0m     \u001b[38;5;28;01mreturn\u001b[39;00m Solution(solve_id\u001b[38;5;241m=\u001b[39msolve_id, matches\u001b[38;5;241m=\u001b[39m[])\n",
      "File \u001b[0;32m~/.pyenv/versions/3.10.5/lib/python3.10/logging/__init__.py:2130\u001b[0m, in \u001b[0;36minfo\u001b[0;34m(msg, *args, **kwargs)\u001b[0m\n\u001b[1;32m   2126\u001b[0m     warnings\u001b[38;5;241m.\u001b[39mwarn(\u001b[38;5;124m\"\u001b[39m\u001b[38;5;124mThe \u001b[39m\u001b[38;5;124m'\u001b[39m\u001b[38;5;124mwarn\u001b[39m\u001b[38;5;124m'\u001b[39m\u001b[38;5;124m function is deprecated, \u001b[39m\u001b[38;5;124m\"\u001b[39m\n\u001b[1;32m   2127\u001b[0m         \u001b[38;5;124m\"\u001b[39m\u001b[38;5;124muse \u001b[39m\u001b[38;5;124m'\u001b[39m\u001b[38;5;124mwarning\u001b[39m\u001b[38;5;124m'\u001b[39m\u001b[38;5;124m instead\u001b[39m\u001b[38;5;124m\"\u001b[39m, \u001b[38;5;167;01mDeprecationWarning\u001b[39;00m, \u001b[38;5;241m2\u001b[39m)\n\u001b[1;32m   2128\u001b[0m     warning(msg, \u001b[38;5;241m*\u001b[39margs, \u001b[38;5;241m*\u001b[39m\u001b[38;5;241m*\u001b[39mkwargs)\n\u001b[0;32m-> 2130\u001b[0m \u001b[38;5;28;01mdef\u001b[39;00m \u001b[38;5;21minfo\u001b[39m(msg, \u001b[38;5;241m*\u001b[39margs, \u001b[38;5;241m*\u001b[39m\u001b[38;5;241m*\u001b[39mkwargs):\n\u001b[1;32m   2131\u001b[0m \u001b[38;5;250m    \u001b[39m\u001b[38;5;124;03m\"\"\"\u001b[39;00m\n\u001b[1;32m   2132\u001b[0m \u001b[38;5;124;03m    Log a message with severity 'INFO' on the root logger. If the logger has\u001b[39;00m\n\u001b[1;32m   2133\u001b[0m \u001b[38;5;124;03m    no handlers, call basicConfig() to add a console handler with a pre-defined\u001b[39;00m\n\u001b[1;32m   2134\u001b[0m \u001b[38;5;124;03m    format.\u001b[39;00m\n\u001b[1;32m   2135\u001b[0m \u001b[38;5;124;03m    \"\"\"\u001b[39;00m\n\u001b[1;32m   2136\u001b[0m     \u001b[38;5;28;01mif\u001b[39;00m \u001b[38;5;28mlen\u001b[39m(root\u001b[38;5;241m.\u001b[39mhandlers) \u001b[38;5;241m==\u001b[39m \u001b[38;5;241m0\u001b[39m:\n",
      "\u001b[0;31mKeyboardInterrupt\u001b[0m: "
     ]
    }
   ],
   "source": [
    "wcs, positions = calibrate_astrometry('2018-01-07T032042__47tuc__dia_r__60.fits', 'cal_47tuc_r.fits')"
   ]
  },
  {
   "cell_type": "code",
   "execution_count": 99,
   "metadata": {},
   "outputs": [],
   "source": [
    "# calibrate_astrometry('2018-01-07T032629__47tuc__dia_b__120.fits', 'cal_47tuc_b.fits')"
   ]
  },
  {
   "cell_type": "code",
   "execution_count": 104,
   "metadata": {},
   "outputs": [
    {
     "name": "stderr",
     "output_type": "stream",
     "text": [
      "INFO:AstroCal:Starting work on 2018-01-07T024216__ngc1365__dia_ov__180.fits\n",
      "DEBUG:AstroCal:smoothing frame to get fewer stars\n",
      "DEBUG:AstroCal:Finding sources\n",
      "INFO:AstroCal:Found 702 sources in total\n",
      "INFO:AstroCal:Using 61 sources for astrometry\n",
      "INFO:AstroCal:Using position hint for ngc1365: <SkyCoord (ICRS): (ra, dec) in deg\n",
      "    (53.4019083, -36.1406583)>\n",
      "INFO:root:solve 25: start\n",
      "INFO:root:solve 25: slice=[0, 25[ (1 / 2), index=\"4200/index-4202-34.fits\" (1 / 2)\n",
      "INFO:root:solve 25: slice=[0, 25[ (1 / 2), index=\"4200/index-4206-08.fits\" (2 / 2)\n",
      "INFO:root:solve 25: slice=[25, 50[ (2 / 2), index=\"4200/index-4202-34.fits\" (1 / 2)\n",
      "INFO:root:solve 25: logodds=37.9993, matches=12, conflicts=5, distractors=31, ra=53.3996, dec=-36.1304, scale=0.405309, index=\"4200/index-4202-34.fits\"\n",
      "INFO:root:solve 25: logodds=40.3467, matches=12, conflicts=4, distractors=32, ra=53.3995, dec=-36.1304, scale=0.404914, index=\"4200/index-4202-34.fits\"\n",
      "INFO:root:solve 25: slice=[25, 50[ (2 / 2), index=\"4200/index-4206-08.fits\" (2 / 2)\n",
      "INFO:AstroCal:Solution has a match? yes\n",
      "INFO:AstroCal:Writing output file to cal_ngc1365_v.fits\n"
     ]
    },
    {
     "name": "stdout",
     "output_type": "stream",
     "text": [
      "Match(logodds=40.34669494628906, center_ra_deg=53.39945420921245, center_dec_deg=-36.13038916119913, scale_arcsec_per_pixel=0.4049137201353035, index_path=PosixPath('/nas/t7black/astrometry/data/4200/index-4202-34.fits'), stars=(Star(ra_deg=53.45654100769637, dec_deg=-36.12864698409525, metadata={'j_mag': 13.548999786376953}), Star(ra_deg=53.476637985680426, dec_deg=-36.13319801060871, metadata={'j_mag': 12.071000099182129}), Star(ra_deg=53.373136986302505, dec_deg=-36.09738499604271, metadata={'j_mag': 16.079999923706055}), Star(ra_deg=53.4015950002115, dec_deg=-36.14047599304273, metadata={'j_mag': 11.343999862670898}), Star(ra_deg=53.40723598837045, dec_deg=-36.135796002031285, metadata={'j_mag': 15.060999870300293}), Star(ra_deg=53.36291898725138, dec_deg=-36.12852899105486, metadata={'j_mag': 16.090999603271484}), Star(ra_deg=53.40233999310698, dec_deg=-36.142001989472114, metadata={'j_mag': 11.83899974822998}), Star(ra_deg=53.41870399466764, dec_deg=-36.141124989693694, metadata={'j_mag': 16.246999740600586}), Star(ra_deg=53.401682010910854, dec_deg=-36.13830600316226, metadata={'j_mag': 11.944000244140625}), Star(ra_deg=53.42437898626253, dec_deg=-36.12531698604967, metadata={'j_mag': 16.292999267578125}), Star(ra_deg=53.403818004280005, dec_deg=-36.13913298612273, metadata={'j_mag': 12.01200008392334}), Star(ra_deg=53.43039098712857, dec_deg=-36.135559003559074, metadata={'j_mag': 16.325000762939453}), Star(ra_deg=53.39040001119646, dec_deg=-36.12068899538249, metadata={'j_mag': 12.14799976348877}), Star(ra_deg=53.40119799861867, dec_deg=-36.143226997323744, metadata={'j_mag': 12.416999816894531}), Star(ra_deg=53.40222300503279, dec_deg=-36.13751999419956, metadata={'j_mag': 13.532999992370605}), Star(ra_deg=53.41959199373257, dec_deg=-36.18142299061309, metadata={'j_mag': 13.836000442504883}), Star(ra_deg=53.40205599559721, dec_deg=-36.14113199375932, metadata={'j_mag': 10.881999969482422}), Star(ra_deg=53.400098996934155, dec_deg=-36.14064399028635, metadata={'j_mag': 11.215999603271484}), Star(ra_deg=53.34391301018486, dec_deg=-36.12065500809362, metadata={'j_mag': 14.312999725341797}), Star(ra_deg=53.43861301462921, dec_deg=-36.12448099906267, metadata={'j_mag': 15.020000457763672})), quad_stars=(Star(ra_deg=53.34391301018486, dec_deg=-36.12065500809362, metadata={'j_mag': 14.312999725341797}), Star(ra_deg=53.43861301462921, dec_deg=-36.12448099906267, metadata={'j_mag': 15.020000457763672}), Star(ra_deg=53.4015950002115, dec_deg=-36.14047599304273, metadata={'j_mag': 11.343999862670898}), Star(ra_deg=53.40233999310698, dec_deg=-36.142001989472114, metadata={'j_mag': 11.83899974822998})), wcs_fields={'WCSAXES': (2, 'Number of coordinate axes'), 'EQUINOX': (2000.0, 'Equatorial coordinates definition (yr)'), 'LONPOLE': (180.0, 'Native longitude of celestial pole (deg)'), 'LATPOLE': (0.0, 'Native latitude of celestial pole (deg)'), 'CRVAL1': (53.39616910393312, 'RA of reference point'), 'CRVAL2': (-36.131732759727036, 'DEC of reference point'), 'CRPIX1': (582.8121706018029, 'X reference pixel'), 'CRPIX2': (533.5549951768455, 'Y reference pixel'), 'CUNIT1': ('deg', 'X pixel scale units'), 'CUNIT2': ('deg', 'Y pixel scale units'), 'CD1_1': (-0.00011247200640591568, 'Transformation matrix'), 'CD1_2': (9.517656662447828e-07, 'Transformation matrix'), 'CD2_1': (-9.517656662447844e-07, 'Transformation matrix'), 'CD2_2': (-0.00011247200640591569, 'Transformation matrix'), 'CTYPE1': ('RA---TAN-SIP', 'TAN (gnomonic) projection + SIP distortions'), 'CTYPE2': ('DEC--TAN-SIP', 'TAN (gnomonic) projection + SIP distortions')})\n"
     ]
    }
   ],
   "source": [
    "wcs, positions = calibrate_astrometry('2018-01-07T024216__ngc1365__dia_ov__180.fits', 'cal_ngc1365_v.fits', sip_order=3)"
   ]
  },
  {
   "cell_type": "code",
   "execution_count": 115,
   "metadata": {},
   "outputs": [
    {
     "name": "stderr",
     "output_type": "stream",
     "text": [
      "INFO:AstroCal:Starting work on 2018-01-07T021946__30doradus__dia_b__120.fits\n",
      "DEBUG:AstroCal:smoothing frame to get fewer stars\n",
      "DEBUG:AstroCal:Finding sources\n",
      "INFO:AstroCal:Found 1474 sources in total\n",
      "INFO:AstroCal:Using 100 sources for astrometry\n",
      "INFO:AstroCal:Using position hint for 30doradus: <SkyCoord (ICRS): (ra, dec) in deg\n",
      "    (84.67665, -69.1009333)>\n",
      "INFO:root:solve 29: start\n",
      "INFO:root:solve 29: slice=[0, 25[ (1 / 4), index=\"4200/index-4202-32.fits\" (1 / 4)\n",
      "INFO:root:solve 29: slice=[0, 25[ (1 / 4), index=\"4200/index-4202-36.fits\" (2 / 4)\n",
      "INFO:root:solve 29: slice=[0, 25[ (1 / 4), index=\"4200/index-4206-08.fits\" (3 / 4)\n",
      "INFO:root:solve 29: slice=[0, 25[ (1 / 4), index=\"4200/index-4206-09.fits\" (4 / 4)\n",
      "INFO:root:solve 29: slice=[25, 50[ (2 / 4), index=\"4200/index-4202-32.fits\" (1 / 4)\n",
      "INFO:root:solve 29: slice=[25, 50[ (2 / 4), index=\"4200/index-4202-36.fits\" (2 / 4)\n",
      "INFO:root:solve 29: slice=[25, 50[ (2 / 4), index=\"4200/index-4206-08.fits\" (3 / 4)\n",
      "INFO:root:solve 29: slice=[25, 50[ (2 / 4), index=\"4200/index-4206-09.fits\" (4 / 4)\n",
      "INFO:root:solve 29: slice=[50, 75[ (3 / 4), index=\"4200/index-4202-32.fits\" (1 / 4)\n",
      "INFO:root:solve 29: slice=[50, 75[ (3 / 4), index=\"4200/index-4202-36.fits\" (2 / 4)\n",
      "INFO:root:solve 29: slice=[50, 75[ (3 / 4), index=\"4200/index-4206-08.fits\" (3 / 4)\n",
      "INFO:root:solve 29: slice=[50, 75[ (3 / 4), index=\"4200/index-4206-09.fits\" (4 / 4)\n",
      "INFO:root:solve 29: slice=[75, 100[ (4 / 4), index=\"4200/index-4202-32.fits\" (1 / 4)\n",
      "INFO:root:solve 29: slice=[75, 100[ (4 / 4), index=\"4200/index-4202-36.fits\" (2 / 4)\n",
      "INFO:root:solve 29: slice=[75, 100[ (4 / 4), index=\"4200/index-4206-08.fits\" (3 / 4)\n",
      "INFO:root:solve 29: slice=[75, 100[ (4 / 4), index=\"4200/index-4206-09.fits\" (4 / 4)\n",
      "INFO:AstroCal:Solution has a match? no\n",
      "ERROR:AstroCal:No solution found, not writing output file\n"
     ]
    }
   ],
   "source": [
    "wcs, positions = calibrate_astrometry('2018-01-07T021946__30doradus__dia_b__120.fits', 'cal_30dor_b.fits', sip_order=1)"
   ]
  },
  {
   "cell_type": "code",
   "execution_count": 113,
   "metadata": {},
   "outputs": [
    {
     "data": {
      "image/png": "[encoded data removed]",
      "text/plain": [
       "<Figure size 700x700 with 1 Axes>"
      ]
     },
     "metadata": {},
     "output_type": "display_data"
    }
   ],
   "source": [
    "fig,ax = plt.subplots(figsize=(7,7))\n",
    "ax.scatter(positions[:,0], positions[:,1], c='blue', marker='+', linewidth=1)\n",
    "\n",
    "if (wcs is not None):\n",
    "    awcs = solution.best_match().astropy_wcs()\n",
    "    pixels = awcs.all_world2pix(\n",
    "        [[star.ra_deg, star.dec_deg] for star in solution.best_match().stars],\n",
    "        0,\n",
    "    )\n",
    "    # print(pixels)\n",
    "\n",
    "    ax.scatter(pixels[:,0], pixels[:,1], marker='o', edgecolor='red', facecolor='none')\n",
    "\n"
   ]
  },
  {
   "cell_type": "code",
   "execution_count": null,
   "metadata": {},
   "outputs": [],
   "source": []
  }
 ],
 "metadata": {
  "kernelspec": {
   "display_name": "Python 3 (pyenv 3.10)",
   "language": "python",
   "name": "pyenv_3.10"
  },
  "language_info": {
   "codemirror_mode": {
    "name": "ipython",
    "version": 3
   },
   "file_extension": ".py",
   "mimetype": "text/x-python",
   "name": "python",
   "nbconvert_exporter": "python",
   "pygments_lexer": "ipython3",
   "version": "3.10.5"
  }
 },
 "nbformat": 4,
 "nbformat_minor": 4
}
